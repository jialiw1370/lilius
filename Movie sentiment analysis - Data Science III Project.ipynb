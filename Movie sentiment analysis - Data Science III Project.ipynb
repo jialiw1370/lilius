{
 "cells": [
  {
   "cell_type": "code",
   "execution_count": 1,
   "id": "b9674e90",
   "metadata": {},
   "outputs": [
    {
     "data": {
      "text/html": [
       "<div>\n",
       "<style scoped>\n",
       "    .dataframe tbody tr th:only-of-type {\n",
       "        vertical-align: middle;\n",
       "    }\n",
       "\n",
       "    .dataframe tbody tr th {\n",
       "        vertical-align: top;\n",
       "    }\n",
       "\n",
       "    .dataframe thead th {\n",
       "        text-align: right;\n",
       "    }\n",
       "</style>\n",
       "<table border=\"1\" class=\"dataframe\">\n",
       "  <thead>\n",
       "    <tr style=\"text-align: right;\">\n",
       "      <th></th>\n",
       "      <th>ID</th>\n",
       "      <th>Movie_Name</th>\n",
       "      <th>Score</th>\n",
       "      <th>Review_People</th>\n",
       "      <th>Star_Distribution</th>\n",
       "      <th>Craw_Date</th>\n",
       "      <th>Username</th>\n",
       "      <th>Date</th>\n",
       "      <th>Star</th>\n",
       "      <th>Comment</th>\n",
       "      <th>Comment_Distribution</th>\n",
       "      <th>Like</th>\n",
       "    </tr>\n",
       "  </thead>\n",
       "  <tbody>\n",
       "    <tr>\n",
       "      <th>0</th>\n",
       "      <td>0</td>\n",
       "      <td>1988年的妮可 Nico, 1988</td>\n",
       "      <td>7.5</td>\n",
       "      <td>565</td>\n",
       "      <td>15.2%48.2%32.3%3.4%0.8%</td>\n",
       "      <td>2019-10-05</td>\n",
       "      <td>尾黑</td>\n",
       "      <td>2018-06-23</td>\n",
       "      <td>3</td>\n",
       "      <td>成本低廉的PPT电影，用Nico生命中最后一年发生的事给Nico的歌配上情节，倒不算尴尬。女...</td>\n",
       "      <td>66%31%3%</td>\n",
       "      <td>4</td>\n",
       "    </tr>\n",
       "    <tr>\n",
       "      <th>1</th>\n",
       "      <td>1</td>\n",
       "      <td>1988年的妮可 Nico, 1988</td>\n",
       "      <td>7.5</td>\n",
       "      <td>565</td>\n",
       "      <td>15.2%48.2%32.3%3.4%0.8%</td>\n",
       "      <td>2019-10-05</td>\n",
       "      <td>大奇特(Grinch)</td>\n",
       "      <td>2018-06-28</td>\n",
       "      <td>3</td>\n",
       "      <td>传记片能做到半真半假的真实，就成功一半了，然后就是走进人物的内心世界。这部影片做到了纪录片般...</td>\n",
       "      <td>66%31%3%</td>\n",
       "      <td>4</td>\n",
       "    </tr>\n",
       "    <tr>\n",
       "      <th>2</th>\n",
       "      <td>2</td>\n",
       "      <td>1988年的妮可 Nico, 1988</td>\n",
       "      <td>7.5</td>\n",
       "      <td>565</td>\n",
       "      <td>15.2%48.2%32.3%3.4%0.8%</td>\n",
       "      <td>2019-10-05</td>\n",
       "      <td>西楼尘</td>\n",
       "      <td>2018-07-01</td>\n",
       "      <td>3</td>\n",
       "      <td>意大利房东记得他的嚣张，岔开大腿抽着烟说，我的计划是成为优雅的老女人。总念错名字的劳拉记得她...</td>\n",
       "      <td>66%31%3%</td>\n",
       "      <td>2</td>\n",
       "    </tr>\n",
       "    <tr>\n",
       "      <th>3</th>\n",
       "      <td>3</td>\n",
       "      <td>1988年的妮可 Nico, 1988</td>\n",
       "      <td>7.5</td>\n",
       "      <td>565</td>\n",
       "      <td>15.2%48.2%32.3%3.4%0.8%</td>\n",
       "      <td>2019-10-05</td>\n",
       "      <td>张晚禾</td>\n",
       "      <td>2018-06-28</td>\n",
       "      <td>3</td>\n",
       "      <td>意大利电影周开幕片</td>\n",
       "      <td>66%31%3%</td>\n",
       "      <td>0</td>\n",
       "    </tr>\n",
       "    <tr>\n",
       "      <th>4</th>\n",
       "      <td>4</td>\n",
       "      <td>1988年的妮可 Nico, 1988</td>\n",
       "      <td>7.5</td>\n",
       "      <td>565</td>\n",
       "      <td>15.2%48.2%32.3%3.4%0.8%</td>\n",
       "      <td>2019-10-05</td>\n",
       "      <td>汪金卫</td>\n",
       "      <td>2018-06-29</td>\n",
       "      <td>3</td>\n",
       "      <td>【中国电影资料馆展映】歌星Nico的最后三年，青春不再，人气不再，衰老暴躁，在漂泊不定的巡回...</td>\n",
       "      <td>66%31%3%</td>\n",
       "      <td>1</td>\n",
       "    </tr>\n",
       "  </tbody>\n",
       "</table>\n",
       "</div>"
      ],
      "text/plain": [
       "   ID           Movie_Name  Score  Review_People        Star_Distribution  \\\n",
       "0   0  1988年的妮可 Nico, 1988    7.5            565  15.2%48.2%32.3%3.4%0.8%   \n",
       "1   1  1988年的妮可 Nico, 1988    7.5            565  15.2%48.2%32.3%3.4%0.8%   \n",
       "2   2  1988年的妮可 Nico, 1988    7.5            565  15.2%48.2%32.3%3.4%0.8%   \n",
       "3   3  1988年的妮可 Nico, 1988    7.5            565  15.2%48.2%32.3%3.4%0.8%   \n",
       "4   4  1988年的妮可 Nico, 1988    7.5            565  15.2%48.2%32.3%3.4%0.8%   \n",
       "\n",
       "    Craw_Date     Username        Date  Star  \\\n",
       "0  2019-10-05           尾黑  2018-06-23     3   \n",
       "1  2019-10-05  大奇特(Grinch)  2018-06-28     3   \n",
       "2  2019-10-05          西楼尘  2018-07-01     3   \n",
       "3  2019-10-05          张晚禾  2018-06-28     3   \n",
       "4  2019-10-05          汪金卫  2018-06-29     3   \n",
       "\n",
       "                                             Comment Comment_Distribution  \\\n",
       "0  成本低廉的PPT电影，用Nico生命中最后一年发生的事给Nico的歌配上情节，倒不算尴尬。女...             66%31%3%   \n",
       "1  传记片能做到半真半假的真实，就成功一半了，然后就是走进人物的内心世界。这部影片做到了纪录片般...             66%31%3%   \n",
       "2  意大利房东记得他的嚣张，岔开大腿抽着烟说，我的计划是成为优雅的老女人。总念错名字的劳拉记得她...             66%31%3%   \n",
       "3                                          意大利电影周开幕片             66%31%3%   \n",
       "4  【中国电影资料馆展映】歌星Nico的最后三年，青春不再，人气不再，衰老暴躁，在漂泊不定的巡回...             66%31%3%   \n",
       "\n",
       "   Like  \n",
       "0     4  \n",
       "1     4  \n",
       "2     2  \n",
       "3     0  \n",
       "4     1  "
      ]
     },
     "execution_count": 1,
     "metadata": {},
     "output_type": "execute_result"
    }
   ],
   "source": [
    "import pandas as pd\n",
    "movies = pd.read_csv('all_movies_with_id.csv')\n",
    "movies.head(5)"
   ]
  },
  {
   "cell_type": "code",
   "execution_count": 2,
   "id": "760abee7",
   "metadata": {},
   "outputs": [
    {
     "name": "stdout",
     "output_type": "stream",
     "text": [
      "ID                         0\n",
      "Movie_Name                 0\n",
      "Score                      0\n",
      "Review_People              0\n",
      "Star_Distribution          0\n",
      "Craw_Date                  0\n",
      "Username                1785\n",
      "Date                       0\n",
      "Star                       0\n",
      "Comment                    7\n",
      "Comment_Distribution       0\n",
      "Like                       0\n",
      "dtype: int64\n"
     ]
    }
   ],
   "source": [
    "movies.drop_duplicates(inplace= True)\n",
    "print(movies.isnull().sum())"
   ]
  },
  {
   "cell_type": "code",
   "execution_count": 3,
   "id": "6b771fd3",
   "metadata": {},
   "outputs": [],
   "source": [
    "movies = movies.dropna(subset = ['Comment'], axis=0)"
   ]
  },
  {
   "cell_type": "code",
   "execution_count": 4,
   "id": "3cbab137",
   "metadata": {},
   "outputs": [
    {
     "data": {
      "text/html": [
       "<div>\n",
       "<style scoped>\n",
       "    .dataframe tbody tr th:only-of-type {\n",
       "        vertical-align: middle;\n",
       "    }\n",
       "\n",
       "    .dataframe tbody tr th {\n",
       "        vertical-align: top;\n",
       "    }\n",
       "\n",
       "    .dataframe thead th {\n",
       "        text-align: right;\n",
       "    }\n",
       "</style>\n",
       "<table border=\"1\" class=\"dataframe\">\n",
       "  <thead>\n",
       "    <tr style=\"text-align: right;\">\n",
       "      <th></th>\n",
       "      <th>Movie_Name</th>\n",
       "      <th>Review_People</th>\n",
       "      <th>Star</th>\n",
       "      <th>Comment</th>\n",
       "    </tr>\n",
       "  </thead>\n",
       "  <tbody>\n",
       "    <tr>\n",
       "      <th>0</th>\n",
       "      <td>1988年的妮可 Nico, 1988</td>\n",
       "      <td>565</td>\n",
       "      <td>3</td>\n",
       "      <td>成本低廉的PPT电影，用Nico生命中最后一年发生的事给Nico的歌配上情节，倒不算尴尬。女...</td>\n",
       "    </tr>\n",
       "    <tr>\n",
       "      <th>1</th>\n",
       "      <td>1988年的妮可 Nico, 1988</td>\n",
       "      <td>565</td>\n",
       "      <td>3</td>\n",
       "      <td>传记片能做到半真半假的真实，就成功一半了，然后就是走进人物的内心世界。这部影片做到了纪录片般...</td>\n",
       "    </tr>\n",
       "    <tr>\n",
       "      <th>2</th>\n",
       "      <td>1988年的妮可 Nico, 1988</td>\n",
       "      <td>565</td>\n",
       "      <td>3</td>\n",
       "      <td>意大利房东记得他的嚣张，岔开大腿抽着烟说，我的计划是成为优雅的老女人。总念错名字的劳拉记得她...</td>\n",
       "    </tr>\n",
       "    <tr>\n",
       "      <th>3</th>\n",
       "      <td>1988年的妮可 Nico, 1988</td>\n",
       "      <td>565</td>\n",
       "      <td>3</td>\n",
       "      <td>意大利电影周开幕片</td>\n",
       "    </tr>\n",
       "    <tr>\n",
       "      <th>4</th>\n",
       "      <td>1988年的妮可 Nico, 1988</td>\n",
       "      <td>565</td>\n",
       "      <td>3</td>\n",
       "      <td>【中国电影资料馆展映】歌星Nico的最后三年，青春不再，人气不再，衰老暴躁，在漂泊不定的巡回...</td>\n",
       "    </tr>\n",
       "  </tbody>\n",
       "</table>\n",
       "</div>"
      ],
      "text/plain": [
       "            Movie_Name  Review_People  Star  \\\n",
       "0  1988年的妮可 Nico, 1988            565     3   \n",
       "1  1988年的妮可 Nico, 1988            565     3   \n",
       "2  1988年的妮可 Nico, 1988            565     3   \n",
       "3  1988年的妮可 Nico, 1988            565     3   \n",
       "4  1988年的妮可 Nico, 1988            565     3   \n",
       "\n",
       "                                             Comment  \n",
       "0  成本低廉的PPT电影，用Nico生命中最后一年发生的事给Nico的歌配上情节，倒不算尴尬。女...  \n",
       "1  传记片能做到半真半假的真实，就成功一半了，然后就是走进人物的内心世界。这部影片做到了纪录片般...  \n",
       "2  意大利房东记得他的嚣张，岔开大腿抽着烟说，我的计划是成为优雅的老女人。总念错名字的劳拉记得她...  \n",
       "3                                          意大利电影周开幕片  \n",
       "4  【中国电影资料馆展映】歌星Nico的最后三年，青春不再，人气不再，衰老暴躁，在漂泊不定的巡回...  "
      ]
     },
     "execution_count": 4,
     "metadata": {},
     "output_type": "execute_result"
    }
   ],
   "source": [
    "m_df = movies[['Movie_Name', 'Review_People', 'Star', 'Comment']]\n",
    "m_df.head()\n"
   ]
  },
  {
   "cell_type": "code",
   "execution_count": 5,
   "id": "9465c822",
   "metadata": {},
   "outputs": [
    {
     "data": {
      "text/html": [
       "<div>\n",
       "<style scoped>\n",
       "    .dataframe tbody tr th:only-of-type {\n",
       "        vertical-align: middle;\n",
       "    }\n",
       "\n",
       "    .dataframe tbody tr th {\n",
       "        vertical-align: top;\n",
       "    }\n",
       "\n",
       "    .dataframe thead th {\n",
       "        text-align: right;\n",
       "    }\n",
       "</style>\n",
       "<table border=\"1\" class=\"dataframe\">\n",
       "  <thead>\n",
       "    <tr style=\"text-align: right;\">\n",
       "      <th></th>\n",
       "      <th>Review_People</th>\n",
       "      <th>Star</th>\n",
       "    </tr>\n",
       "  </thead>\n",
       "  <tbody>\n",
       "    <tr>\n",
       "      <th>count</th>\n",
       "      <td>10310982</td>\n",
       "      <td>10310982</td>\n",
       "    </tr>\n",
       "    <tr>\n",
       "      <th>mean</th>\n",
       "      <td>59460</td>\n",
       "      <td>3</td>\n",
       "    </tr>\n",
       "    <tr>\n",
       "      <th>std</th>\n",
       "      <td>116889</td>\n",
       "      <td>1</td>\n",
       "    </tr>\n",
       "    <tr>\n",
       "      <th>min</th>\n",
       "      <td>152</td>\n",
       "      <td>1</td>\n",
       "    </tr>\n",
       "    <tr>\n",
       "      <th>25%</th>\n",
       "      <td>6600</td>\n",
       "      <td>3</td>\n",
       "    </tr>\n",
       "    <tr>\n",
       "      <th>50%</th>\n",
       "      <td>17675</td>\n",
       "      <td>3</td>\n",
       "    </tr>\n",
       "    <tr>\n",
       "      <th>75%</th>\n",
       "      <td>56428</td>\n",
       "      <td>4</td>\n",
       "    </tr>\n",
       "    <tr>\n",
       "      <th>max</th>\n",
       "      <td>1628973</td>\n",
       "      <td>5</td>\n",
       "    </tr>\n",
       "  </tbody>\n",
       "</table>\n",
       "</div>"
      ],
      "text/plain": [
       "       Review_People     Star\n",
       "count       10310982 10310982\n",
       "mean           59460        3\n",
       "std           116889        1\n",
       "min              152        1\n",
       "25%             6600        3\n",
       "50%            17675        3\n",
       "75%            56428        4\n",
       "max          1628973        5"
      ]
     },
     "execution_count": 5,
     "metadata": {},
     "output_type": "execute_result"
    }
   ],
   "source": [
    "# Descriptive statistics\n",
    "pd.set_option('display.float_format', '{:.0f}'.format)\n",
    "m_df[['Review_People', 'Star']].describe()"
   ]
  },
  {
   "cell_type": "code",
   "execution_count": 6,
   "id": "20aa9e20",
   "metadata": {},
   "outputs": [
    {
     "data": {
      "text/plain": [
       "Text(0, 0.5, 'Frequency')"
      ]
     },
     "execution_count": 6,
     "metadata": {},
     "output_type": "execute_result"
    },
    {
     "data": {
      "image/png": "[encoded data removed]",
      "text/plain": [
       "<Figure size 864x432 with 1 Axes>"
      ]
     },
     "metadata": {
      "needs_background": "light"
     },
     "output_type": "display_data"
    },
    {
     "data": {
      "image/png": "[encoded data removed]",
      "text/plain": [
       "<Figure size 864x432 with 1 Axes>"
      ]
     },
     "metadata": {
      "needs_background": "light"
     },
     "output_type": "display_data"
    }
   ],
   "source": [
    "# Plot 'Star' and 'Review_People'\n",
    "import matplotlib.pyplot as plt\n",
    "import seaborn as sns\n",
    "pd.reset_option('display.float_format')\n",
    "\n",
    "plt.figure(figsize = (12,6))\n",
    "plt.subplot(1,2,1)\n",
    "sns.histplot(m_df['Star'], kde=True, bins = 20)\n",
    "plt.title('Star Distribution')\n",
    "plt.xlabel('Star Rating')\n",
    "plt.ylabel('Frequency')\n",
    "\n",
    "plt.figure(figsize = (12,6))\n",
    "plt.subplot(2,2,2)\n",
    "sns.histplot(m_df['Review_People'], kde = True, bins = 100)\n",
    "plt.title('Review People Distribution')\n",
    "plt.xlabel('Number of Reviewers')\n",
    "plt.ylabel('Frequency')"
   ]
  },
  {
   "cell_type": "markdown",
   "id": "ff775fed",
   "metadata": {},
   "source": [
    "The above graphs show that the most frequent star is 3 star, and the distribution is skewed towards positive ratings, since there are more frequency in the 3-5 range. In the Review People Distribution, most movies have relatively small number of reviews. However, the right tail indicates that a small number of movies have extremely large number of people writing reviews."
   ]
  },
  {
   "cell_type": "code",
   "execution_count": 8,
   "id": "768ce2a7",
   "metadata": {},
   "outputs": [
    {
     "name": "stdout",
     "output_type": "stream",
     "text": [
      "11664    4440\n",
      "15002    4239\n",
      "27171    4206\n",
      "34915    4117\n",
      "6928     4059\n",
      "         ... \n",
      "345        51\n",
      "381        49\n",
      "518        46\n",
      "395        39\n",
      "398        37\n",
      "Name: Review_People, Length: 8825, dtype: int64\n",
      "遗落战境 Oblivion                           3000\n",
      "刺客聂隐娘                                   3000\n",
      "暮光之城2：新月 The Twilight Saga: New Moon    3000\n",
      "独行侠 The Lone Ranger                     3000\n",
      "重返十七岁 17 Again                          3000\n",
      "                                        ... \n",
      "帕特诺 Paterno                               51\n",
      "不可能的事 Breakthrough                        49\n",
      "比利小子 The Kid                              46\n",
      "威慑与恐吓 Shock and Awe                       39\n",
      "尤利 Yuli                                   37\n",
      "Name: Movie_Name, Length: 10269, dtype: int64\n",
      "一般                                                                                            7867\n",
      "3.5                                                                                           6009\n",
      "无聊                                                                                            5674\n",
      "还行                                                                                            5081\n",
      "好看                                                                                            4696\n",
      "                                                                                              ... \n",
      "中国政府可以考虑给麦拷贝发张绿卡，虽然是为了钱..但人家拿了钱舔的也确实用心和卖力...如果《变形金刚》可以拍到6..麦拷贝可以超越尼古拉斯凯奇真真正正的成为——中国人民的老朋友！       1\n",
      "国泰电影院 看的审美疲劳极了 节奏紊乱 无休止的打斗和特效 中国元素很多 广告很多 看完又累又饿                                                 1\n",
      "大黄蜂打了个打酱油。茜茜找我去看的电影，IMAX版本，送了海报。                                                                 1\n",
      "曾一度觉得变形金刚非常酷炫，现在去电影院看觉得既费钱又费时。                                                                   1\n",
      "林秋楠，我很想见你，我真的真的想见你，我每天不知道怎么回事想起你我就相见你想的我天天哭。哎！                                                   1\n",
      "Name: Comment, Length: 9372770, dtype: int64\n"
     ]
    }
   ],
   "source": [
    "#Frequency tabulation\n",
    "\n",
    "reviewer_counts = m_df['Review_People'].value_counts()\n",
    "print(reviewer_counts)\n",
    "\n",
    "movie_name_counts = m_df['Movie_Name'].value_counts()\n",
    "print(movie_name_counts)\n",
    "\n",
    "comment_counts = m_df['Comment'].value_counts()\n",
    "print(comment_counts)"
   ]
  },
  {
   "cell_type": "markdown",
   "id": "245fe5a4",
   "metadata": {},
   "source": [
    "The above result show that there are 10269 unique movies in the dataset and 9372770 unique comments to analyze. Some comments are short, just writing 'average', 'boring', 'alright', or 'good', whereas some comments are long. "
   ]
  },
  {
   "cell_type": "code",
   "execution_count": 17,
   "id": "6d21d5fc",
   "metadata": {},
   "outputs": [
    {
     "name": "stdout",
     "output_type": "stream",
     "text": [
      "Number of comments selected: 103110\n",
      "                                                Movie_Name  Review_People  \\\n",
      "2942453                             附注：我爱你 P.S. I Love You         116138   \n",
      "9575730  对一个不容怀疑的公民的调查 Indagine su un cittadino al di s...           2126   \n",
      "9052775                                            绝恋 Jude           3897   \n",
      "325950                                        黑潮 Malcolm X           2467   \n",
      "6825879                                黑水仙 Black Narcissus           1911   \n",
      "\n",
      "         Star                                            Comment  \n",
      "2942453     2  It has been years since last time I was almost...  \n",
      "9575730     5  前几日在绵竹做访谈，一个从体制内跳出来的官员和我讲述为什么在当今官场无法独善其身，原因也就是...  \n",
      "9052775     4       凯特·温丝莱特是个不错的演员！这部电影现在已经不怎么记得情节了，不过，当时，感觉还不错！  \n",
      "325950      4  Spike Lee的镜头运用太棒了。用宗教平权，但未免有伊斯兰教独大和仇视白人之嫌。就白人在...  \n",
      "6825879     3                      剧情有点拖沓 人物因为年代久远都比较扭曲动作很造作....  \n"
     ]
    },
    {
     "data": {
      "text/plain": [
       "(60761, 4)"
      ]
     },
     "execution_count": 17,
     "metadata": {},
     "output_type": "execute_result"
    }
   ],
   "source": [
    "# Randomly sample 1% of the comments\n",
    "sample_df = m_df.sample(frac=0.01, random_state=123)\n",
    "print(f\"Number of comments selected: {sample_df.shape[0]}\")\n",
    "sample_df.head()\n",
    "filtered = sample_df[sample_df['Movie_Name'].str.contains(r'[a-zA-Z]',na = False)]\n",
    "print(filtered.head())\n",
    "filtered.shape"
   ]
  },
  {
   "cell_type": "code",
   "execution_count": 18,
   "id": "5cade66f",
   "metadata": {},
   "outputs": [
    {
     "name": "stdout",
     "output_type": "stream",
     "text": [
      "(14154, 14)\n"
     ]
    },
    {
     "data": {
      "text/html": [
       "<div>\n",
       "<style scoped>\n",
       "    .dataframe tbody tr th:only-of-type {\n",
       "        vertical-align: middle;\n",
       "    }\n",
       "\n",
       "    .dataframe tbody tr th {\n",
       "        vertical-align: top;\n",
       "    }\n",
       "\n",
       "    .dataframe thead th {\n",
       "        text-align: right;\n",
       "    }\n",
       "</style>\n",
       "<table border=\"1\" class=\"dataframe\">\n",
       "  <thead>\n",
       "    <tr style=\"text-align: right;\">\n",
       "      <th></th>\n",
       "      <th>English</th>\n",
       "      <th>Word</th>\n",
       "      <th>anger</th>\n",
       "      <th>anticipation</th>\n",
       "      <th>disgust</th>\n",
       "      <th>fear</th>\n",
       "      <th>joy</th>\n",
       "      <th>negative</th>\n",
       "      <th>positive</th>\n",
       "      <th>sadness</th>\n",
       "      <th>surprise</th>\n",
       "      <th>trust</th>\n",
       "      <th>Chinese-Simplified</th>\n",
       "      <th>Word.1</th>\n",
       "    </tr>\n",
       "  </thead>\n",
       "  <tbody>\n",
       "    <tr>\n",
       "      <th>13310</th>\n",
       "      <td>ungrateful</td>\n",
       "      <td>1</td>\n",
       "      <td>0</td>\n",
       "      <td>1</td>\n",
       "      <td>0</td>\n",
       "      <td>0</td>\n",
       "      <td>1</td>\n",
       "      <td>0</td>\n",
       "      <td>0</td>\n",
       "      <td>0</td>\n",
       "      <td>0</td>\n",
       "      <td>忘恩负义</td>\n",
       "      <td>NaN</td>\n",
       "      <td>NaN</td>\n",
       "    </tr>\n",
       "    <tr>\n",
       "      <th>222</th>\n",
       "      <td>adore</td>\n",
       "      <td>0</td>\n",
       "      <td>1</td>\n",
       "      <td>0</td>\n",
       "      <td>0</td>\n",
       "      <td>1</td>\n",
       "      <td>0</td>\n",
       "      <td>1</td>\n",
       "      <td>0</td>\n",
       "      <td>0</td>\n",
       "      <td>1</td>\n",
       "      <td>崇拜</td>\n",
       "      <td>NaN</td>\n",
       "      <td>NaN</td>\n",
       "    </tr>\n",
       "    <tr>\n",
       "      <th>1959</th>\n",
       "      <td>chalk</td>\n",
       "      <td>0</td>\n",
       "      <td>0</td>\n",
       "      <td>0</td>\n",
       "      <td>0</td>\n",
       "      <td>0</td>\n",
       "      <td>0</td>\n",
       "      <td>0</td>\n",
       "      <td>0</td>\n",
       "      <td>0</td>\n",
       "      <td>0</td>\n",
       "      <td>粉笔</td>\n",
       "      <td>NaN</td>\n",
       "      <td>NaN</td>\n",
       "    </tr>\n",
       "    <tr>\n",
       "      <th>8444</th>\n",
       "      <td>notoriety</td>\n",
       "      <td>1</td>\n",
       "      <td>0</td>\n",
       "      <td>1</td>\n",
       "      <td>1</td>\n",
       "      <td>0</td>\n",
       "      <td>1</td>\n",
       "      <td>1</td>\n",
       "      <td>0</td>\n",
       "      <td>0</td>\n",
       "      <td>0</td>\n",
       "      <td>恶名</td>\n",
       "      <td>NaN</td>\n",
       "      <td>NaN</td>\n",
       "    </tr>\n",
       "    <tr>\n",
       "      <th>7337</th>\n",
       "      <td>lightning</td>\n",
       "      <td>1</td>\n",
       "      <td>0</td>\n",
       "      <td>0</td>\n",
       "      <td>1</td>\n",
       "      <td>0</td>\n",
       "      <td>0</td>\n",
       "      <td>0</td>\n",
       "      <td>0</td>\n",
       "      <td>1</td>\n",
       "      <td>0</td>\n",
       "      <td>闪电</td>\n",
       "      <td>NaN</td>\n",
       "      <td>NaN</td>\n",
       "    </tr>\n",
       "  </tbody>\n",
       "</table>\n",
       "</div>"
      ],
      "text/plain": [
       "          English  Word  anger  anticipation  disgust  fear  joy  negative  \\\n",
       "13310  ungrateful     1      0             1        0     0    1         0   \n",
       "222         adore     0      1             0        0     1    0         1   \n",
       "1959        chalk     0      0             0        0     0    0         0   \n",
       "8444    notoriety     1      0             1        1     0    1         1   \n",
       "7337    lightning     1      0             0        1     0    0         0   \n",
       "\n",
       "       positive  sadness  surprise trust  Chinese-Simplified  Word.1  \n",
       "13310         0        0         0  忘恩负义                 NaN     NaN  \n",
       "222           0        0         1    崇拜                 NaN     NaN  \n",
       "1959          0        0         0    粉笔                 NaN     NaN  \n",
       "8444          0        0         0    恶名                 NaN     NaN  \n",
       "7337          0        1         0    闪电                 NaN     NaN  "
      ]
     },
     "execution_count": 18,
     "metadata": {},
     "output_type": "execute_result"
    }
   ],
   "source": [
    "import pandas as pd\n",
    "import csv\n",
    "import numpy as np\n",
    "import pandas as pd\n",
    "from sklearn.feature_extraction.text import CountVectorizer\n",
    "\n",
    "nrc_file = 'Chinese-Simplified-NRC-EmoLex.txt'\n",
    "nrc = pd.read_csv(nrc_file, sep = '\\s+', header = 0)\n",
    "nrc.to_csv('nrc_lexicon.csv', index = False)\n",
    "print(nrc.shape)\n",
    "nrc.sample(5, random_state=123)"
   ]
  },
  {
   "cell_type": "code",
   "execution_count": 19,
   "id": "6cf2e88a",
   "metadata": {},
   "outputs": [
    {
     "name": "stdout",
     "output_type": "stream",
     "text": [
      "       English  Word  anger  anticipation  disgust  fear  joy  negative  \\\n",
      "0        aback     0      0             0        0     0    0         0   \n",
      "1       abacus     0      0             0        0     0    0         0   \n",
      "2      abandon     0      0             0        1     0    1         0   \n",
      "3    abandoned     1      0             0        1     0    1         0   \n",
      "4  abandonment     1      0             0        1     0    1         0   \n",
      "\n",
      "   positive  sadness  surprise  trust Chinese-Simplified  \n",
      "0         0        0         0      0                 吃惊  \n",
      "1         0        0         1      0                 算盘  \n",
      "2         1        0         0      0                 放弃  \n",
      "3         1        0         0      0                  弃  \n",
      "4         1        1         0      0                 放弃  \n"
     ]
    }
   ],
   "source": [
    "# Move the Chinese words in 'trust' column to 'Chinese-Simplified' column\n",
    "nrc['Chinese-Simplified'] = nrc['trust']\n",
    "\n",
    "# Reset 'trust' column to 0 \n",
    "nrc['trust'] = 0  \n",
    "\n",
    "# Delete redundant column such as 'Word.1'\n",
    "nrc_cleaned = nrc.drop(columns=['Word.1'])\n",
    "\n",
    "# Delete rows that include NaN\n",
    "nrc_cleaned = nrc_cleaned.dropna()\n",
    "\n",
    "# View the data after the fix\n",
    "print(nrc_cleaned.head())"
   ]
  },
  {
   "cell_type": "code",
   "execution_count": 20,
   "id": "0e806b00",
   "metadata": {},
   "outputs": [],
   "source": [
    "nrc_cleaned.to_csv('nrc_lexicon_fixed.csv', index=False)"
   ]
  },
  {
   "cell_type": "code",
   "execution_count": 21,
   "id": "06cfe36a",
   "metadata": {},
   "outputs": [
    {
     "name": "stdout",
     "output_type": "stream",
     "text": [
      "       English  Word  anger  anticipation  disgust  fear  joy  negative  \\\n",
      "0        aback     0      0             0        0     0    0         0   \n",
      "1       abacus     0      0             0        0     0    0         0   \n",
      "2      abandon     0      0             0        1     0    1         0   \n",
      "3    abandoned     1      0             0        1     0    1         0   \n",
      "4  abandonment     1      0             0        1     0    1         0   \n",
      "\n",
      "   positive  sadness  surprise  trust Chinese-Simplified  \n",
      "0         0        0         0      0                 吃惊  \n",
      "1         0        0         1      0                 算盘  \n",
      "2         1        0         0      0                 放弃  \n",
      "3         1        0         0      0                  弃  \n",
      "4         1        1         0      0                 放弃  \n"
     ]
    }
   ],
   "source": [
    "nrc_df = pd.read_csv('nrc_lexicon_fixed.csv')\n",
    "print(nrc_df.head())"
   ]
  },
  {
   "cell_type": "code",
   "execution_count": 22,
   "id": "b9d5a234",
   "metadata": {},
   "outputs": [
    {
     "name": "stdout",
     "output_type": "stream",
     "text": [
      "                                                   Comment  \\\n",
      "2942453  It has been years since last time I was almost...   \n",
      "9575730  前几日在绵竹做访谈，一个从体制内跳出来的官员和我讲述为什么在当今官场无法独善其身，原因也就是...   \n",
      "9052775       凯特·温丝莱特是个不错的演员！这部电影现在已经不怎么记得情节了，不过，当时，感觉还不错！   \n",
      "325950   Spike Lee的镜头运用太棒了。用宗教平权，但未免有伊斯兰教独大和仇视白人之嫌。就白人在...   \n",
      "6825879                      剧情有点拖沓 人物因为年代久远都比较扭曲动作很造作....   \n",
      "\n",
      "                                         tokenized_comment  \n",
      "2942453  It   has   been   years   since   last   time ...  \n",
      "9575730  前几日 在 绵竹 做 访谈 ， 一个 从 体制 内 跳 出来 的 官员 和 我 讲述 为什么...  \n",
      "9052775  凯特 · 温丝 莱特 是 个 不错 的 演员 ！ 这部 电影 现在 已经 不怎么 记得 情节...  \n",
      "325950   Spike   Lee 的 镜头 运用 太棒了 。 用 宗教 平权 ， 但 未免 有 伊斯兰...  \n",
      "6825879         剧情 有点 拖沓   人物 因为 年代久远 都 比较 扭曲 动作 很 造作 ....  \n"
     ]
    },
    {
     "name": "stderr",
     "output_type": "stream",
     "text": [
      "/var/folders/_b/fllrq8ln02scfsn_77v9b4bm0000gn/T/ipykernel_4468/2820340883.py:11: SettingWithCopyWarning: \n",
      "A value is trying to be set on a copy of a slice from a DataFrame.\n",
      "Try using .loc[row_indexer,col_indexer] = value instead\n",
      "\n",
      "See the caveats in the documentation: https://pandas.pydata.org/pandas-docs/stable/user_guide/indexing.html#returning-a-view-versus-a-copy\n",
      "  filtered['tokenized_comment'] = filtered['Comment'].apply(tokenize)\n"
     ]
    }
   ],
   "source": [
    "import pandas as pd\n",
    "import jieba\n",
    "from sklearn.feature_extraction.text import TfidfVectorizer\n",
    "\n",
    "# Define tokenize function and separate each word in the comments\n",
    "def tokenize(text):\n",
    "    tokens = jieba.lcut(text)\n",
    "    return ' '.join(tokens)  # 用空格连接分词结果，返回字符串\n",
    "\n",
    "# Tokenize the text in the Comment column\n",
    "filtered['tokenized_comment'] = filtered['Comment'].apply(tokenize)\n",
    "\n",
    "# View data after tokenization\n",
    "print(filtered[['Comment', 'tokenized_comment']].head())\n"
   ]
  },
  {
   "cell_type": "code",
   "execution_count": 23,
   "id": "cdeb9353",
   "metadata": {
    "scrolled": true
   },
   "outputs": [
    {
     "name": "stdout",
     "output_type": "stream",
     "text": [
      "(60761, 70005)\n"
     ]
    }
   ],
   "source": [
    "# Calculate TF-IDF using TfidfVectorizer \n",
    "vectorizer = TfidfVectorizer()  # Not using stopwords to deal with Chinese words\n",
    "\n",
    "# Calculate TF-IDF of the comments after tokenization\n",
    "tfidf_matrix = vectorizer.fit_transform(filtered['tokenized_comment'])\n",
    "\n",
    "# Correspond words with the index in matrix\n",
    "feature_names = vectorizer.get_feature_names_out()\n",
    "\n",
    "# View the shape of TF-IDF matrix（Comment × Word）\n",
    "print(tfidf_matrix.shape)\n"
   ]
  },
  {
   "cell_type": "code",
   "execution_count": 24,
   "id": "5ae57273",
   "metadata": {},
   "outputs": [
    {
     "name": "stdout",
     "output_type": "stream",
     "text": [
      "                                                   Comment  tfidf_sum\n",
      "3968835  这是一部宣扬资本主义正能量的影片，看到毒液，就会想起小贱贱，这种反英雄路线越来越讨喜，絮絮叨...  10.292754\n",
      "9578504  2.5-3。前面就是賣慘，還有「醒醒吧你沒有富爸爸／女朋友」，所謂寫實性僅是放在超英電影可一...  10.226732\n",
      "8484839  爱情是一层薄薄的轻纱，内里人性善恶才是力道所在。生活自有其鄙视链，冷漠贯串每一个环节。很多时...  10.134843\n",
      "2399751  CC伯格曼作品集修复版重刷，目前画质最佳版本。像这种影史巨片，每次重刷都能全新发现一处别样优...  10.082633\n",
      "9597448  Jacques Audiard真是匠师手笔……把反套路的原作拍得更传神了。这本来该是一个关于...  10.047638\n"
     ]
    },
    {
     "name": "stderr",
     "output_type": "stream",
     "text": [
      "/var/folders/_b/fllrq8ln02scfsn_77v9b4bm0000gn/T/ipykernel_4468/2940817915.py:2: SettingWithCopyWarning: \n",
      "A value is trying to be set on a copy of a slice from a DataFrame.\n",
      "Try using .loc[row_indexer,col_indexer] = value instead\n",
      "\n",
      "See the caveats in the documentation: https://pandas.pydata.org/pandas-docs/stable/user_guide/indexing.html#returning-a-view-versus-a-copy\n",
      "  filtered['tfidf_sum'] = tfidf_matrix.sum(axis=1)\n"
     ]
    }
   ],
   "source": [
    "# Calculate the sum of tf-idf in each comment\n",
    "filtered['tfidf_sum'] = tfidf_matrix.sum(axis=1)\n",
    "\n",
    "# Rank the comment, and comments with high tf-idf score come top\n",
    "filtered_sorted = filtered.sort_values(by='tfidf_sum', ascending=False)\n",
    "\n",
    "# View comments which come top\n",
    "print(filtered_sorted[['Comment', 'tfidf_sum']].head())\n"
   ]
  },
  {
   "cell_type": "code",
   "execution_count": 25,
   "id": "a542a6cf",
   "metadata": {},
   "outputs": [
    {
     "data": {
      "text/html": [
       "<div>\n",
       "<style scoped>\n",
       "    .dataframe tbody tr th:only-of-type {\n",
       "        vertical-align: middle;\n",
       "    }\n",
       "\n",
       "    .dataframe tbody tr th {\n",
       "        vertical-align: top;\n",
       "    }\n",
       "\n",
       "    .dataframe thead th {\n",
       "        text-align: right;\n",
       "    }\n",
       "</style>\n",
       "<table border=\"1\" class=\"dataframe\">\n",
       "  <thead>\n",
       "    <tr style=\"text-align: right;\">\n",
       "      <th></th>\n",
       "      <th>Movie_Name</th>\n",
       "      <th>Review_People</th>\n",
       "      <th>Star</th>\n",
       "      <th>Comment</th>\n",
       "      <th>tokenized_comment</th>\n",
       "      <th>tfidf_sum</th>\n",
       "    </tr>\n",
       "  </thead>\n",
       "  <tbody>\n",
       "    <tr>\n",
       "      <th>3968835</th>\n",
       "      <td>毒液：致命守护者 Venom</td>\n",
       "      <td>605483</td>\n",
       "      <td>4</td>\n",
       "      <td>这是一部宣扬资本主义正能量的影片，看到毒液，就会想起小贱贱，这种反英雄路线越来越讨喜，絮絮叨...</td>\n",
       "      <td>这是 一部 宣扬 资本主义 正 能量 的 影片 ， 看到 毒液 ， 就 会 想起 小贱 贱 ...</td>\n",
       "      <td>10.292754</td>\n",
       "    </tr>\n",
       "    <tr>\n",
       "      <th>9578504</th>\n",
       "      <td>小丑 Joker</td>\n",
       "      <td>28177</td>\n",
       "      <td>3</td>\n",
       "      <td>2.5-3。前面就是賣慘，還有「醒醒吧你沒有富爸爸／女朋友」，所謂寫實性僅是放在超英電影可一...</td>\n",
       "      <td>2.5 - 3 。 前面 就是 賣慘 ， 還有 「 醒醒 吧 你 沒 有富 爸爸 ／ 女朋友...</td>\n",
       "      <td>10.226732</td>\n",
       "    </tr>\n",
       "    <tr>\n",
       "      <th>8484839</th>\n",
       "      <td>恐惧吞噬灵魂 Angst essen Seele auf</td>\n",
       "      <td>7894</td>\n",
       "      <td>5</td>\n",
       "      <td>爱情是一层薄薄的轻纱，内里人性善恶才是力道所在。生活自有其鄙视链，冷漠贯串每一个环节。很多时...</td>\n",
       "      <td>爱情 是 一层 薄薄的 轻纱 ， 内里 人性 善恶 才 是 力道 所在 。 生活 自有 其 ...</td>\n",
       "      <td>10.134843</td>\n",
       "    </tr>\n",
       "    <tr>\n",
       "      <th>2399751</th>\n",
       "      <td>第七封印 Det sjunde inseglet</td>\n",
       "      <td>33035</td>\n",
       "      <td>5</td>\n",
       "      <td>CC伯格曼作品集修复版重刷，目前画质最佳版本。像这种影史巨片，每次重刷都能全新发现一处别样优...</td>\n",
       "      <td>CC 伯格曼 作品集 修复 版 重刷 ， 目前 画质 最佳 版本 。 像 这种 影史 巨片 ...</td>\n",
       "      <td>10.082633</td>\n",
       "    </tr>\n",
       "    <tr>\n",
       "      <th>9597448</th>\n",
       "      <td>希斯特斯兄弟 The Sisters Brothers</td>\n",
       "      <td>9235</td>\n",
       "      <td>5</td>\n",
       "      <td>Jacques Audiard真是匠师手笔……把反套路的原作拍得更传神了。这本来该是一个关于...</td>\n",
       "      <td>Jacques   Audiard 真是 匠师 手笔 … … 把 反 套路 的 原作 拍得 ...</td>\n",
       "      <td>10.047638</td>\n",
       "    </tr>\n",
       "  </tbody>\n",
       "</table>\n",
       "</div>"
      ],
      "text/plain": [
       "                           Movie_Name  Review_People  Star  \\\n",
       "3968835                毒液：致命守护者 Venom         605483     4   \n",
       "9578504                      小丑 Joker          28177     3   \n",
       "8484839  恐惧吞噬灵魂 Angst essen Seele auf           7894     5   \n",
       "2399751      第七封印 Det sjunde inseglet          33035     5   \n",
       "9597448   希斯特斯兄弟 The Sisters Brothers           9235     5   \n",
       "\n",
       "                                                   Comment  \\\n",
       "3968835  这是一部宣扬资本主义正能量的影片，看到毒液，就会想起小贱贱，这种反英雄路线越来越讨喜，絮絮叨...   \n",
       "9578504  2.5-3。前面就是賣慘，還有「醒醒吧你沒有富爸爸／女朋友」，所謂寫實性僅是放在超英電影可一...   \n",
       "8484839  爱情是一层薄薄的轻纱，内里人性善恶才是力道所在。生活自有其鄙视链，冷漠贯串每一个环节。很多时...   \n",
       "2399751  CC伯格曼作品集修复版重刷，目前画质最佳版本。像这种影史巨片，每次重刷都能全新发现一处别样优...   \n",
       "9597448  Jacques Audiard真是匠师手笔……把反套路的原作拍得更传神了。这本来该是一个关于...   \n",
       "\n",
       "                                         tokenized_comment  tfidf_sum  \n",
       "3968835  这是 一部 宣扬 资本主义 正 能量 的 影片 ， 看到 毒液 ， 就 会 想起 小贱 贱 ...  10.292754  \n",
       "9578504  2.5 - 3 。 前面 就是 賣慘 ， 還有 「 醒醒 吧 你 沒 有富 爸爸 ／ 女朋友...  10.226732  \n",
       "8484839  爱情 是 一层 薄薄的 轻纱 ， 内里 人性 善恶 才 是 力道 所在 。 生活 自有 其 ...  10.134843  \n",
       "2399751  CC 伯格曼 作品集 修复 版 重刷 ， 目前 画质 最佳 版本 。 像 这种 影史 巨片 ...  10.082633  \n",
       "9597448  Jacques   Audiard 真是 匠师 手笔 … … 把 反 套路 的 原作 拍得 ...  10.047638  "
      ]
     },
     "execution_count": 25,
     "metadata": {},
     "output_type": "execute_result"
    }
   ],
   "source": [
    "# Choose the top 100 comments with the highest tf-idf score\n",
    "top_comments_df = filtered_sorted.head(100)\n",
    "top_comments_df.head()\n"
   ]
  },
  {
   "cell_type": "code",
   "execution_count": 27,
   "id": "2d266882",
   "metadata": {},
   "outputs": [
    {
     "name": "stdout",
     "output_type": "stream",
     "text": [
      "                                                                                                                                                                                                                                                                                                                                                                                                                              Comment  \\\n",
      "3968835                                                                 这是一部宣扬资本主义正能量的影片，看到毒液，就会想起小贱贱，这种反英雄路线越来越讨喜，絮絮叨叨的唐僧式吐槽，一下子就把影迷变成了同党。事实上这也算是漫威编剧的某种转型，靠光伟正圈粉的时代已经过去，可萌可贱可风骚的汤老湿，如果配上抖音快手的鬼畜节奏肯定爆红。汤老湿演出了嘴炮＋情感专家的人设，当然很多网友对40分钟罗里吧嗦的平平剧情表示抗议，好在被毒液的热辣登场挽救，花式撩汉给满分点赞，片名改为霸道外星人爱上我。这种抖S基腐桥段惹得豆瓣一片拥护。所以观影提示就是要降低预期搭配2倍速，因为漫威这次摆明了就是将R级片拍成儿童片，挺《寄生兽》的。管电锯的也没怎么对PG13下手，难道是因为惩恶扬善的结尾，或是反酒驾的公益广告？彩蛋都挺长的，索尼大法好PS4植入很自然。但是难忘的是斯坦李老爷子的路人甲。   \n",
      "9578504        2.5-3。前面就是賣慘，還有「醒醒吧你沒有富爸爸／女朋友」，所謂寫實性僅是放在超英電影可一提，比較好玩的情節與設定，多數像是對Taxi Driver或The King of Comedy的直接挪用與致意（如以手為槍、與Robert De Niro的對戲）。Joaquin的表演像是牽起一條從The Machinist、Tony Manero以來的身體變形路數；「笑」容問題要再想想。最喜歡侏儒那一場，有真正危險的幽默，觀眾該笑嗎？可惜全片沒有別次有類似殺傷力⋯末段暴亂戲，背景電影院Ace in the Hole引用。對於精神病或抗爭者的表述？階梯空間。真正惡意高手還是Haneke，是否打破第四面牆，自覺拉入觀眾層次（與導演、角色共謀），會更有趣呢？20s大批小丑片，Laugh, Clown, Laugh的主角叫Flik，有關嗎？高譚市作為美國當代病灶濃縮，小丑被莫名舉起成為「英雄」，「群眾」怎麼被想像？   \n",
      "8484839                                                                                                    爱情是一层薄薄的轻纱，内里人性善恶才是力道所在。生活自有其鄙视链，冷漠贯串每一个环节。很多时候我们根本无力对抗歧视，在恐惧之中褪下灵魂防线，但终有所幸，尚可保有一丝勇气来继续承受。法斯宾德的布景构图颇为精到，螺旋楼梯上妇女细碎言语几场尤为明显。光影色彩虽碍于技术，但呈现依旧令人印象深刻，阿里和另一个女人性爱前的“坦诚相见”一场，明暗里的情感何其饱满！影片结构精致地大回环套着小回环，子女来去、舞曲再响起、老板再寒暄，对比嵌在反复里，有一股文学修辞的意味。导演的暗示主体是人，开头一个德国人和一群阿拉伯人的漠然对望含蓄但其实毫不客气地揭开社会伤疤，不断地强调人物的言行，阿里、艾米情境分割，构造两种截然不同的生活。不可不谓高明。   \n",
      "2399751                                                               CC伯格曼作品集修复版重刷，目前画质最佳版本。像这种影史巨片，每次重刷都能全新发现一处别样优质的地方，这次印象最深的是片中服饰和所有布料的精美，由于是伯格曼中早期影片里舞台剧味非常浓的一部，每个人的身份性格全从衣饰表现出来，在人物造型上算是最典范了。除此之外还用得着说什么呢，伯格曼是最能用光编织梦，最能用现代生活方式框定、讨论宗教与灵魂议题的人，他的电影通常像个小屋子，装载他编写得极度高超的故事，观众走进去后产生的思考的深度，无人能及。本片深刻，肃穆，整洁，虔诚，轻松的喜剧成分和严酷的死亡混于一起，形成的张力在他自己的作品序列中也算是最强的。全片起于一场绮丽的狂想，过程中由戏剧手段带来的说服力震人心魄。卑鄙者到处宣扬失败到来之必然性，高尚者敢坐下来与死神对弈，何时看它都能教人分辨是非，给人勇气   \n",
      "9597448  Jacques Audiard真是匠师手笔……把反套路的原作拍得更传神了。这本来该是一个关于四个男人为了淘金相互火拼跟虐杀的黑社会故事，结果其实证明是两对“好基友”可以为捍卫彼此而死的故事。最美好的moment就是四个人在湖边喝酒扯淡的场景了。虽说查理因为贪婪而误把化学家和Morris害死那块我真想整死他（毕竟看这部的直接契机就是因为今年元素周期表150周年），但这个隐喻本身也很重要：作者没有完全认同后两者代表的乌托邦世界，相反，它把两个人象征的纯粹光明亲手掐灭了。俩兄弟也因为这个契机彻底觉醒，告别了狼对狼的世界。Cowboys, say goodbye to the cruel world. Because this world, \"it is abomination\"。另外吐个槽：小J泥垢了。如此神仙卡司环绕，尼老又演了个总想回归荒野的文青……而且居然还tm叫John Morris. 一颗赛艇的历史循环啊……   \n",
      "\n",
      "                                                                                                                                           sentiment  \n",
      "3968835    {'anger': 4, 'anticipation': 5, 'disgust': 4, 'fear': 2, 'joy': 7, 'negative': 7, 'positive': 2, 'sadness': 2, 'surprise': 5, 'trust': 0}  \n",
      "9578504  {'anger': 4, 'anticipation': 1, 'disgust': 2, 'fear': 11, 'joy': 3, 'negative': 15, 'positive': 1, 'sadness': 9, 'surprise': 1, 'trust': 0}  \n",
      "8484839  {'anger': 5, 'anticipation': 5, 'disgust': 5, 'fear': 2, 'joy': 11, 'negative': 10, 'positive': 5, 'sadness': 1, 'surprise': 6, 'trust': 0}  \n",
      "2399751   {'anger': 6, 'anticipation': 4, 'disgust': 6, 'fear': 0, 'joy': 9, 'negative': 12, 'positive': 7, 'sadness': 1, 'surprise': 6, 'trust': 0}  \n",
      "9597448  {'anger': 7, 'anticipation': 2, 'disgust': 2, 'fear': 2, 'joy': 8, 'negative': 16, 'positive': 2, 'sadness': 2, 'surprise': 13, 'trust': 0}  \n"
     ]
    },
    {
     "name": "stderr",
     "output_type": "stream",
     "text": [
      "/var/folders/_b/fllrq8ln02scfsn_77v9b4bm0000gn/T/ipykernel_4468/3311610086.py:23: SettingWithCopyWarning: \n",
      "A value is trying to be set on a copy of a slice from a DataFrame.\n",
      "Try using .loc[row_indexer,col_indexer] = value instead\n",
      "\n",
      "See the caveats in the documentation: https://pandas.pydata.org/pandas-docs/stable/user_guide/indexing.html#returning-a-view-versus-a-copy\n",
      "  top_comments_df['sentiment'] = top_comments_df['tokenized_comment'].apply(lambda x: analyze_sentiment(x.split()))\n"
     ]
    }
   ],
   "source": [
    "import jieba\n",
    "pd.set_option('display.max_colwidth', None)\n",
    "\n",
    "# Define sentiment analysis function\n",
    "def analyze_sentiment(tokens):\n",
    "    emotions_count = {\n",
    "        'anger': 0, 'anticipation': 0, 'disgust': 0, 'fear': 0,\n",
    "        'joy': 0, 'negative': 0, 'positive': 0, 'sadness': 0,\n",
    "        'surprise': 0, 'trust': 0\n",
    "    }\n",
    "    \n",
    "    # Match each token\n",
    "    for token in tokens:\n",
    "        matches = nrc_df[nrc_df['Chinese-Simplified'] == token]\n",
    "        if not matches.empty:\n",
    "            for _, match in matches.iterrows():\n",
    "                for emotion in emotions_count:\n",
    "                    emotions_count[emotion] += int(match[emotion])\n",
    "    \n",
    "    return emotions_count\n",
    "\n",
    "# Do sentiment analysis on comments in 'top_comments_df' dataset\n",
    "top_comments_df['sentiment'] = top_comments_df['tokenized_comment'].apply(lambda x: analyze_sentiment(x.split()))\n",
    "\n",
    "# View the result of sentiment analysis\n",
    "print(top_comments_df[['Comment', 'sentiment']].head())\n"
   ]
  },
  {
   "cell_type": "code",
   "execution_count": 28,
   "id": "788ff496",
   "metadata": {},
   "outputs": [
    {
     "name": "stdout",
     "output_type": "stream",
     "text": [
      "        Emotion  Count\n",
      "0         anger    627\n",
      "1  anticipation    428\n",
      "2       disgust    684\n",
      "3          fear    579\n",
      "4           joy   1343\n",
      "5      negative   1495\n",
      "6      positive    658\n",
      "7       sadness    411\n",
      "8      surprise    734\n",
      "9         trust      0\n"
     ]
    }
   ],
   "source": [
    "# Define sentiment list\n",
    "emotions = ['anger', 'anticipation', 'disgust', 'fear', 'joy', 'negative', 'positive', 'sadness', 'surprise', 'trust']\n",
    "\n",
    "# Calculate the sum of each sentiment in the top 100 comments\n",
    "emotion_totals = {emotion: 0 for emotion in emotions}\n",
    "\n",
    "# Sum the sentiment count in each comment\n",
    "for index, row in top_comments_df.iterrows():\n",
    "    for emotion in emotions:\n",
    "        emotion_totals[emotion] += row['sentiment'][emotion]\n",
    "\n",
    "# Convert the result into a DataFrame\n",
    "emotion_totals_df = pd.DataFrame(list(emotion_totals.items()), columns=['Emotion', 'Count'])\n",
    "\n",
    "# Output sentiment sum total\n",
    "print(emotion_totals_df)\n"
   ]
  },
  {
   "cell_type": "code",
   "execution_count": null,
   "id": "ad252ba4",
   "metadata": {},
   "outputs": [],
   "source": []
  }
 ],
 "metadata": {
  "kernelspec": {
   "display_name": "Python 3 (ipykernel)",
   "language": "python",
   "name": "python3"
  },
  "language_info": {
   "codemirror_mode": {
    "name": "ipython",
    "version": 3
   },
   "file_extension": ".py",
   "mimetype": "text/x-python",
   "name": "python",
   "nbconvert_exporter": "python",
   "pygments_lexer": "ipython3",
   "version": "3.9.12"
  }
 },
 "nbformat": 4,
 "nbformat_minor": 5
}
