{
 "cells": [
  {
   "cell_type": "markdown",
   "id": "53b90cc1",
   "metadata": {},
   "source": [
    "## Data Loading"
   ]
  },
  {
   "cell_type": "code",
   "execution_count": 1,
   "id": "b2b4895d",
   "metadata": {},
   "outputs": [
    {
     "data": {
      "text/html": [
       "<div>\n",
       "<style scoped>\n",
       "    .dataframe tbody tr th:only-of-type {\n",
       "        vertical-align: middle;\n",
       "    }\n",
       "\n",
       "    .dataframe tbody tr th {\n",
       "        vertical-align: top;\n",
       "    }\n",
       "\n",
       "    .dataframe thead th {\n",
       "        text-align: right;\n",
       "    }\n",
       "</style>\n",
       "<table border=\"1\" class=\"dataframe\">\n",
       "  <thead>\n",
       "    <tr style=\"text-align: right;\">\n",
       "      <th></th>\n",
       "      <th>ID</th>\n",
       "      <th>LIMIT_BAL</th>\n",
       "      <th>SEX</th>\n",
       "      <th>EDUCATION</th>\n",
       "      <th>MARRIAGE</th>\n",
       "      <th>AGE</th>\n",
       "      <th>PAY_0</th>\n",
       "      <th>PAY_2</th>\n",
       "      <th>PAY_3</th>\n",
       "      <th>PAY_4</th>\n",
       "      <th>PAY_5</th>\n",
       "      <th>PAY_6</th>\n",
       "      <th>BILL_AMT1</th>\n",
       "      <th>BILL_AMT2</th>\n",
       "      <th>BILL_AMT3</th>\n",
       "      <th>BILL_AMT4</th>\n",
       "      <th>BILL_AMT5</th>\n",
       "      <th>BILL_AMT6</th>\n",
       "      <th>PAY_AMT1</th>\n",
       "      <th>PAY_AMT2</th>\n",
       "      <th>PAY_AMT3</th>\n",
       "      <th>PAY_AMT4</th>\n",
       "      <th>PAY_AMT5</th>\n",
       "      <th>PAY_AMT6</th>\n",
       "      <th>default.payment.next.month</th>\n",
       "    </tr>\n",
       "  </thead>\n",
       "  <tbody>\n",
       "    <tr>\n",
       "      <th>0</th>\n",
       "      <td>1</td>\n",
       "      <td>20000.0</td>\n",
       "      <td>2</td>\n",
       "      <td>2</td>\n",
       "      <td>1</td>\n",
       "      <td>24</td>\n",
       "      <td>2</td>\n",
       "      <td>2</td>\n",
       "      <td>-1</td>\n",
       "      <td>-1</td>\n",
       "      <td>-2</td>\n",
       "      <td>-2</td>\n",
       "      <td>3913.0</td>\n",
       "      <td>3102.0</td>\n",
       "      <td>689.0</td>\n",
       "      <td>0.0</td>\n",
       "      <td>0.0</td>\n",
       "      <td>0.0</td>\n",
       "      <td>0.0</td>\n",
       "      <td>689.0</td>\n",
       "      <td>0.0</td>\n",
       "      <td>0.0</td>\n",
       "      <td>0.0</td>\n",
       "      <td>0.0</td>\n",
       "      <td>1</td>\n",
       "    </tr>\n",
       "    <tr>\n",
       "      <th>1</th>\n",
       "      <td>2</td>\n",
       "      <td>120000.0</td>\n",
       "      <td>2</td>\n",
       "      <td>2</td>\n",
       "      <td>2</td>\n",
       "      <td>26</td>\n",
       "      <td>-1</td>\n",
       "      <td>2</td>\n",
       "      <td>0</td>\n",
       "      <td>0</td>\n",
       "      <td>0</td>\n",
       "      <td>2</td>\n",
       "      <td>2682.0</td>\n",
       "      <td>1725.0</td>\n",
       "      <td>2682.0</td>\n",
       "      <td>3272.0</td>\n",
       "      <td>3455.0</td>\n",
       "      <td>3261.0</td>\n",
       "      <td>0.0</td>\n",
       "      <td>1000.0</td>\n",
       "      <td>1000.0</td>\n",
       "      <td>1000.0</td>\n",
       "      <td>0.0</td>\n",
       "      <td>2000.0</td>\n",
       "      <td>1</td>\n",
       "    </tr>\n",
       "    <tr>\n",
       "      <th>2</th>\n",
       "      <td>3</td>\n",
       "      <td>90000.0</td>\n",
       "      <td>2</td>\n",
       "      <td>2</td>\n",
       "      <td>2</td>\n",
       "      <td>34</td>\n",
       "      <td>0</td>\n",
       "      <td>0</td>\n",
       "      <td>0</td>\n",
       "      <td>0</td>\n",
       "      <td>0</td>\n",
       "      <td>0</td>\n",
       "      <td>29239.0</td>\n",
       "      <td>14027.0</td>\n",
       "      <td>13559.0</td>\n",
       "      <td>14331.0</td>\n",
       "      <td>14948.0</td>\n",
       "      <td>15549.0</td>\n",
       "      <td>1518.0</td>\n",
       "      <td>1500.0</td>\n",
       "      <td>1000.0</td>\n",
       "      <td>1000.0</td>\n",
       "      <td>1000.0</td>\n",
       "      <td>5000.0</td>\n",
       "      <td>0</td>\n",
       "    </tr>\n",
       "    <tr>\n",
       "      <th>3</th>\n",
       "      <td>4</td>\n",
       "      <td>50000.0</td>\n",
       "      <td>2</td>\n",
       "      <td>2</td>\n",
       "      <td>1</td>\n",
       "      <td>37</td>\n",
       "      <td>0</td>\n",
       "      <td>0</td>\n",
       "      <td>0</td>\n",
       "      <td>0</td>\n",
       "      <td>0</td>\n",
       "      <td>0</td>\n",
       "      <td>46990.0</td>\n",
       "      <td>48233.0</td>\n",
       "      <td>49291.0</td>\n",
       "      <td>28314.0</td>\n",
       "      <td>28959.0</td>\n",
       "      <td>29547.0</td>\n",
       "      <td>2000.0</td>\n",
       "      <td>2019.0</td>\n",
       "      <td>1200.0</td>\n",
       "      <td>1100.0</td>\n",
       "      <td>1069.0</td>\n",
       "      <td>1000.0</td>\n",
       "      <td>0</td>\n",
       "    </tr>\n",
       "    <tr>\n",
       "      <th>4</th>\n",
       "      <td>5</td>\n",
       "      <td>50000.0</td>\n",
       "      <td>1</td>\n",
       "      <td>2</td>\n",
       "      <td>1</td>\n",
       "      <td>57</td>\n",
       "      <td>-1</td>\n",
       "      <td>0</td>\n",
       "      <td>-1</td>\n",
       "      <td>0</td>\n",
       "      <td>0</td>\n",
       "      <td>0</td>\n",
       "      <td>8617.0</td>\n",
       "      <td>5670.0</td>\n",
       "      <td>35835.0</td>\n",
       "      <td>20940.0</td>\n",
       "      <td>19146.0</td>\n",
       "      <td>19131.0</td>\n",
       "      <td>2000.0</td>\n",
       "      <td>36681.0</td>\n",
       "      <td>10000.0</td>\n",
       "      <td>9000.0</td>\n",
       "      <td>689.0</td>\n",
       "      <td>679.0</td>\n",
       "      <td>0</td>\n",
       "    </tr>\n",
       "  </tbody>\n",
       "</table>\n",
       "</div>"
      ],
      "text/plain": [
       "   ID  LIMIT_BAL  SEX  EDUCATION  MARRIAGE  AGE  PAY_0  PAY_2  PAY_3  PAY_4  \\\n",
       "0   1    20000.0    2          2         1   24      2      2     -1     -1   \n",
       "1   2   120000.0    2          2         2   26     -1      2      0      0   \n",
       "2   3    90000.0    2          2         2   34      0      0      0      0   \n",
       "3   4    50000.0    2          2         1   37      0      0      0      0   \n",
       "4   5    50000.0    1          2         1   57     -1      0     -1      0   \n",
       "\n",
       "   PAY_5  PAY_6  BILL_AMT1  BILL_AMT2  BILL_AMT3  BILL_AMT4  BILL_AMT5  \\\n",
       "0     -2     -2     3913.0     3102.0      689.0        0.0        0.0   \n",
       "1      0      2     2682.0     1725.0     2682.0     3272.0     3455.0   \n",
       "2      0      0    29239.0    14027.0    13559.0    14331.0    14948.0   \n",
       "3      0      0    46990.0    48233.0    49291.0    28314.0    28959.0   \n",
       "4      0      0     8617.0     5670.0    35835.0    20940.0    19146.0   \n",
       "\n",
       "   BILL_AMT6  PAY_AMT1  PAY_AMT2  PAY_AMT3  PAY_AMT4  PAY_AMT5  PAY_AMT6  \\\n",
       "0        0.0       0.0     689.0       0.0       0.0       0.0       0.0   \n",
       "1     3261.0       0.0    1000.0    1000.0    1000.0       0.0    2000.0   \n",
       "2    15549.0    1518.0    1500.0    1000.0    1000.0    1000.0    5000.0   \n",
       "3    29547.0    2000.0    2019.0    1200.0    1100.0    1069.0    1000.0   \n",
       "4    19131.0    2000.0   36681.0   10000.0    9000.0     689.0     679.0   \n",
       "\n",
       "   default.payment.next.month  \n",
       "0                           1  \n",
       "1                           1  \n",
       "2                           0  \n",
       "3                           0  \n",
       "4                           0  "
      ]
     },
     "execution_count": 1,
     "metadata": {},
     "output_type": "execute_result"
    }
   ],
   "source": [
    "#!pip install numpy==1.22.4\n",
    "from scipy import stats\n",
    "import pandas as pd\n",
    "import numpy as np\n",
    "import matplotlib.pyplot as plt\n",
    "import seaborn as sns\n",
    "pd.set_option('display.max_columns', None)\n",
    "\n",
    "## data read-in\n",
    "cc_default = pd.read_csv('./UCI_Credit_Card.csv')\n",
    "cc_default.head()"
   ]
  },
  {
   "cell_type": "code",
   "execution_count": 2,
   "id": "6786c93a",
   "metadata": {},
   "outputs": [
    {
     "name": "stdout",
     "output_type": "stream",
     "text": [
      "<class 'pandas.core.frame.DataFrame'>\n",
      "RangeIndex: 30000 entries, 0 to 29999\n",
      "Data columns (total 25 columns):\n",
      " #   Column                      Non-Null Count  Dtype  \n",
      "---  ------                      --------------  -----  \n",
      " 0   ID                          30000 non-null  int64  \n",
      " 1   LIMIT_BAL                   30000 non-null  float64\n",
      " 2   SEX                         30000 non-null  int64  \n",
      " 3   EDUCATION                   30000 non-null  int64  \n",
      " 4   MARRIAGE                    30000 non-null  int64  \n",
      " 5   AGE                         30000 non-null  int64  \n",
      " 6   PAY_0                       30000 non-null  int64  \n",
      " 7   PAY_2                       30000 non-null  int64  \n",
      " 8   PAY_3                       30000 non-null  int64  \n",
      " 9   PAY_4                       30000 non-null  int64  \n",
      " 10  PAY_5                       30000 non-null  int64  \n",
      " 11  PAY_6                       30000 non-null  int64  \n",
      " 12  BILL_AMT1                   30000 non-null  float64\n",
      " 13  BILL_AMT2                   30000 non-null  float64\n",
      " 14  BILL_AMT3                   30000 non-null  float64\n",
      " 15  BILL_AMT4                   30000 non-null  float64\n",
      " 16  BILL_AMT5                   30000 non-null  float64\n",
      " 17  BILL_AMT6                   30000 non-null  float64\n",
      " 18  PAY_AMT1                    30000 non-null  float64\n",
      " 19  PAY_AMT2                    30000 non-null  float64\n",
      " 20  PAY_AMT3                    30000 non-null  float64\n",
      " 21  PAY_AMT4                    30000 non-null  float64\n",
      " 22  PAY_AMT5                    30000 non-null  float64\n",
      " 23  PAY_AMT6                    30000 non-null  float64\n",
      " 24  default.payment.next.month  30000 non-null  int64  \n",
      "dtypes: float64(13), int64(12)\n",
      "memory usage: 5.7 MB\n"
     ]
    }
   ],
   "source": [
    "## characterize the dataset\n",
    "cc_default.info()"
   ]
  },
  {
   "cell_type": "markdown",
   "id": "b65b9e36",
   "metadata": {},
   "source": [
    "According to the preliminary review of the dataset, the data includes three kinds of data classifications: nominal, ordinal, and ratio. Specifically, nominal data in the columns of ID, SEX, and default.payment.next.month serve primary classification purposes without inherent ordering. Ordinal data are found in the columns EDUCATION, MARRIAGE, and PAY_0 to PAY_6, which are used to rank data in ordered categories. Ratio data are present in the columns for LIMIT_BAL, AGE, BILL_AMT1 to BILL_AMT6, and PAY_AMT1 to PAY_AMT6, which represent measurable quantities with meaningful zero points. In summary, the data within the eleven columns of ID, SEX, default.payment.next.month, EDUCATION, MARRIAGE, and PAY_0 to PAY_6 are categorical, whereas the data in the fourteen columns comprising LIMIT_BAL, AGE, BILL_AMT1 through BILL_AMT6, and PAY_AMT1 through PAY_AMT6 are numerical. "
   ]
  },
  {
   "cell_type": "code",
   "execution_count": 3,
   "id": "da734034",
   "metadata": {},
   "outputs": [],
   "source": [
    "## remove the irrelevant variable\n",
    "cc_default_updated = cc_default.drop('ID', axis = 1)"
   ]
  },
  {
   "cell_type": "markdown",
   "id": "a3d104d8",
   "metadata": {},
   "source": [
    "The above code removes the ID column, because the ID in the data set only serves as an identifier for each individual and will not bring value to the prediction of Taiwanese credit card defaults."
   ]
  },
  {
   "cell_type": "code",
   "execution_count": 4,
   "id": "2c27837d",
   "metadata": {},
   "outputs": [
    {
     "name": "stdout",
     "output_type": "stream",
     "text": [
      "LIMIT_BAL                     0\n",
      "SEX                           0\n",
      "EDUCATION                     0\n",
      "MARRIAGE                      0\n",
      "AGE                           0\n",
      "PAY_0                         0\n",
      "PAY_2                         0\n",
      "PAY_3                         0\n",
      "PAY_4                         0\n",
      "PAY_5                         0\n",
      "PAY_6                         0\n",
      "BILL_AMT1                     0\n",
      "BILL_AMT2                     0\n",
      "BILL_AMT3                     0\n",
      "BILL_AMT4                     0\n",
      "BILL_AMT5                     0\n",
      "BILL_AMT6                     0\n",
      "PAY_AMT1                      0\n",
      "PAY_AMT2                      0\n",
      "PAY_AMT3                      0\n",
      "PAY_AMT4                      0\n",
      "PAY_AMT5                      0\n",
      "PAY_AMT6                      0\n",
      "default.payment.next.month    0\n",
      "dtype: int64\n"
     ]
    }
   ],
   "source": [
    "## check for missing data\n",
    "null_counts = cc_default_updated.isnull().sum()\n",
    "print(null_counts)"
   ]
  },
  {
   "cell_type": "markdown",
   "id": "b1ff73ae",
   "metadata": {},
   "source": [
    "The above results can show that there is no missing data in the data set. The 0 values in the PAY_0 to PAY_6 columns refer to the minimum payment made by the customer, but the full credit card payment was not paid off. "
   ]
  },
  {
   "cell_type": "code",
   "execution_count": 5,
   "id": "79c93bd7",
   "metadata": {},
   "outputs": [
    {
     "name": "stdout",
     "output_type": "stream",
     "text": [
      "            LIMIT_BAL           SEX     EDUCATION      MARRIAGE           AGE  \\\n",
      "count    30000.000000  30000.000000  30000.000000  30000.000000  30000.000000   \n",
      "mean    167484.322667      1.603733      1.853133      1.551867     35.485500   \n",
      "std     129747.661567      0.489129      0.790349      0.521970      9.217904   \n",
      "min      10000.000000      1.000000      0.000000      0.000000     21.000000   \n",
      "25%      50000.000000      1.000000      1.000000      1.000000     28.000000   \n",
      "50%     140000.000000      2.000000      2.000000      2.000000     34.000000   \n",
      "75%     240000.000000      2.000000      2.000000      2.000000     41.000000   \n",
      "max    1000000.000000      2.000000      6.000000      3.000000     79.000000   \n",
      "\n",
      "              PAY_0         PAY_2         PAY_3         PAY_4         PAY_5  \\\n",
      "count  30000.000000  30000.000000  30000.000000  30000.000000  30000.000000   \n",
      "mean      -0.016700     -0.133767     -0.166200     -0.220667     -0.266200   \n",
      "std        1.123802      1.197186      1.196868      1.169139      1.133187   \n",
      "min       -2.000000     -2.000000     -2.000000     -2.000000     -2.000000   \n",
      "25%       -1.000000     -1.000000     -1.000000     -1.000000     -1.000000   \n",
      "50%        0.000000      0.000000      0.000000      0.000000      0.000000   \n",
      "75%        0.000000      0.000000      0.000000      0.000000      0.000000   \n",
      "max        8.000000      8.000000      8.000000      8.000000      8.000000   \n",
      "\n",
      "              PAY_6      BILL_AMT1      BILL_AMT2     BILL_AMT3  \\\n",
      "count  30000.000000   30000.000000   30000.000000  3.000000e+04   \n",
      "mean      -0.291100   51223.330900   49179.075167  4.701315e+04   \n",
      "std        1.149988   73635.860576   71173.768783  6.934939e+04   \n",
      "min       -2.000000 -165580.000000  -69777.000000 -1.572640e+05   \n",
      "25%       -1.000000    3558.750000    2984.750000  2.666250e+03   \n",
      "50%        0.000000   22381.500000   21200.000000  2.008850e+04   \n",
      "75%        0.000000   67091.000000   64006.250000  6.016475e+04   \n",
      "max        8.000000  964511.000000  983931.000000  1.664089e+06   \n",
      "\n",
      "           BILL_AMT4      BILL_AMT5      BILL_AMT6  \n",
      "count   30000.000000   30000.000000   30000.000000  \n",
      "mean    43262.948967   40311.400967   38871.760400  \n",
      "std     64332.856134   60797.155770   59554.107537  \n",
      "min   -170000.000000  -81334.000000 -339603.000000  \n",
      "25%      2326.750000    1763.000000    1256.000000  \n",
      "50%     19052.000000   18104.500000   17071.000000  \n",
      "75%     54506.000000   50190.500000   49198.250000  \n",
      "max    891586.000000  927171.000000  961664.000000  \n"
     ]
    }
   ],
   "source": [
    "## descriptive statistics for relevant variables (numerical)\n",
    "features = [\n",
    "    'LIMIT_BAL', 'SEX', 'EDUCATION', 'MARRIAGE', 'AGE', \n",
    "    'PAY_0', 'PAY_2', 'PAY_3', 'PAY_4', 'PAY_5', 'PAY_6',\n",
    "    'BILL_AMT1', 'BILL_AMT2', 'BILL_AMT3', 'BILL_AMT4', 'BILL_AMT5', 'BILL_AMT6',\n",
    "    ]\n",
    "descriptive_stats = cc_default_updated[features].describe()\n",
    "print(descriptive_stats)"
   ]
  },
  {
   "cell_type": "markdown",
   "id": "732130db",
   "metadata": {},
   "source": [
    "I believe the primary variables related to default, the \"Default.Payment.Next.Month\" variable, include credit limit (LIMIT_BAL), gender (SEX), individual education level (EDUCATION), marital status (MARRIAGE), age (AGE), repayment history (PAY_0 to PAY_6), and spending behavior (BILL_AMT1 to BILL_AMT6). Below is a graphical representation of these features.\n"
   ]
  },
  {
   "cell_type": "code",
   "execution_count": 6,
   "id": "aff0bd4a",
   "metadata": {
    "scrolled": true
   },
   "outputs": [
    {
     "data": {
      "image/png": "[encoded data removed]",
      "text/plain": [
       "<Figure size 1440x1080 with 17 Axes>"
      ]
     },
     "metadata": {
      "needs_background": "light"
     },
     "output_type": "display_data"
    }
   ],
   "source": [
    "## descriptive statistics (graphical)\n",
    "plt.figure(figsize=(20, 15))\n",
    "for i, feature in enumerate(features, 1):\n",
    "    plt.subplot(5, 4, i)  # Arrange plots in a grid of 5x4\n",
    "    if feature in ['SEX', 'EDUCATION', 'MARRIAGE']:\n",
    "        sns.countplot(x=feature, data=cc_default_updated, palette='Set2')\n",
    "    else:\n",
    "        sns.histplot(cc_default_updated[feature], kde=True, color='skyblue')\n",
    "    plt.title(feature)\n",
    "    plt.tight_layout()\n",
    "plt.show()"
   ]
  },
  {
   "cell_type": "markdown",
   "id": "5257d094",
   "metadata": {},
   "source": [
    "## Data Preprocessing"
   ]
  },
  {
   "cell_type": "code",
   "execution_count": 7,
   "id": "3d2c72d3",
   "metadata": {},
   "outputs": [
    {
     "data": {
      "text/plain": [
       "((24000, 23), (6000, 23), (24000,), (6000,))"
      ]
     },
     "execution_count": 7,
     "metadata": {},
     "output_type": "execute_result"
    }
   ],
   "source": [
    "from sklearn.model_selection import train_test_split\n",
    "from sklearn.preprocessing import StandardScaler\n",
    "\n",
    "## Define features and target variable\n",
    "X = cc_default_updated.drop(['default.payment.next.month'], axis=1)\n",
    "y = cc_default_updated['default.payment.next.month']\n",
    "\n",
    "## Splitting the dataset into training and testing sets\n",
    "X_train, X_test, y_train, y_test = train_test_split(X, y, test_size=0.2, random_state=42)\n",
    "\n",
    "## Feature scaling\n",
    "scaler = StandardScaler()\n",
    "X_train_scaled = scaler.fit_transform(X_train)\n",
    "X_test_scaled = scaler.transform(X_test)\n",
    "\n",
    "X_train_scaled.shape, X_test_scaled.shape, y_train.shape, y_test.shape"
   ]
  },
  {
   "cell_type": "markdown",
   "id": "970d54a6",
   "metadata": {},
   "source": [
    "The dataset has been split into training and testing sets, with 24,000 samples for training and 6,000 for testing, each consisting of 23 features after scaling."
   ]
  },
  {
   "cell_type": "markdown",
   "id": "e858deb3",
   "metadata": {},
   "source": [
    "## Model Training and Evaluation"
   ]
  },
  {
   "cell_type": "code",
   "execution_count": 8,
   "id": "36a3c943",
   "metadata": {},
   "outputs": [
    {
     "name": "stdout",
     "output_type": "stream",
     "text": [
      "Accuracy: 0.8193333333333334\n",
      "Confusion Matrix:\n",
      " [[4480  207]\n",
      " [ 877  436]]\n",
      "              precision    recall  f1-score   support\n",
      "\n",
      "           0       0.84      0.96      0.89      4687\n",
      "           1       0.68      0.33      0.45      1313\n",
      "\n",
      "    accuracy                           0.82      6000\n",
      "   macro avg       0.76      0.64      0.67      6000\n",
      "weighted avg       0.80      0.82      0.79      6000\n",
      "\n",
      "SVM ROC-AUC Score: 0.7143235872552478\n"
     ]
    }
   ],
   "source": [
    "from sklearn.svm import SVC\n",
    "from sklearn.metrics import roc_auc_score\n",
    "from sklearn.metrics import accuracy_score, confusion_matrix, classification_report, roc_curve, auc, RocCurveDisplay\n",
    "\n",
    "## Train the SVM model\n",
    "svm = SVC(random_state=42, probability=True) # Enable probability estimation\n",
    "svm.fit(X_train_scaled, y_train)\n",
    "\n",
    "## Predictions\n",
    "svm_predictions = svm.predict(X_test_scaled)\n",
    "svm_probabilities = svm.predict_proba(X_test_scaled)[:, 1] # Get probabilities for the positive class\n",
    "\n",
    "## Evaluation\n",
    "svm_accuracy = accuracy_score(y_test, svm_predictions)\n",
    "svm_conf_matrix = confusion_matrix(y_test, svm_predictions)\n",
    "svm_report = classification_report(y_test, svm_predictions)\n",
    "svm_roc_auc = roc_auc_score(y_test, svm_probabilities)\n",
    "\n",
    "## Print evaluation results\n",
    "print(\"Accuracy:\",svm_accuracy)\n",
    "print(\"Confusion Matrix:\\n\",svm_conf_matrix)\n",
    "print(svm_report)\n",
    "print(f\"SVM ROC-AUC Score: {svm_roc_auc}\")"
   ]
  },
  {
   "cell_type": "code",
   "execution_count": 9,
   "id": "224c28a4",
   "metadata": {},
   "outputs": [
    {
     "data": {
      "image/png": "[encoded data removed]",
      "text/plain": [
       "<Figure size 432x288 with 2 Axes>"
      ]
     },
     "metadata": {
      "needs_background": "light"
     },
     "output_type": "display_data"
    }
   ],
   "source": [
    "import matplotlib.pyplot as plt\n",
    "import seaborn as sns\n",
    "\n",
    "## Creating a heatmap for the SVM model's confusion matrix\n",
    "sns.heatmap(svm_conf_matrix, annot=True, fmt='d', cmap='Blues', \n",
    "            xticklabels=['No Default', 'Default'], \n",
    "            yticklabels=['No Default', 'Default']) \n",
    "plt.title('Confusion Matrix for SVM Model')\n",
    "plt.xlabel('Predicted Label')\n",
    "plt.ylabel('True Label')\n",
    "plt.show()"
   ]
  },
  {
   "cell_type": "code",
   "execution_count": 10,
   "id": "6d365f14",
   "metadata": {},
   "outputs": [
    {
     "name": "stdout",
     "output_type": "stream",
     "text": [
      "Accuracy: 0.816\n",
      "Confusion Matrix:\n",
      " [[4413  274]\n",
      " [ 830  483]]\n",
      "              precision    recall  f1-score   support\n",
      "\n",
      "           0       0.84      0.94      0.89      4687\n",
      "           1       0.64      0.37      0.47      1313\n",
      "\n",
      "    accuracy                           0.82      6000\n",
      "   macro avg       0.74      0.65      0.68      6000\n",
      "weighted avg       0.80      0.82      0.80      6000\n",
      "\n",
      "Random Forest ROC-AUC Score: 0.7577788444679593\n"
     ]
    }
   ],
   "source": [
    "from sklearn.ensemble import RandomForestClassifier\n",
    "\n",
    "## Train Random Forest model\n",
    "rf = RandomForestClassifier(random_state=42)\n",
    "rf.fit(X_train, y_train)\n",
    "\n",
    "## Predictions \n",
    "rf_predictions = rf.predict(X_test)\n",
    "rf_probabilities = rf.predict_proba(X_test)[:, 1] \n",
    "\n",
    "## Calculate metrics\n",
    "rf_accuracy = accuracy_score(y_test, rf_predictions)\n",
    "rf_conf_matrix = confusion_matrix(y_test, rf_predictions)\n",
    "rf_report = classification_report(y_test, rf_predictions)\n",
    "rf_roc_auc = roc_auc_score(y_test, rf_probabilities)\n",
    "\n",
    "## Print evaluation results\n",
    "print(\"Accuracy:\",rf_accuracy)\n",
    "print(\"Confusion Matrix:\\n\",rf_conf_matrix)\n",
    "print(rf_report)\n",
    "print(f\"Random Forest ROC-AUC Score: {rf_roc_auc}\")"
   ]
  },
  {
   "cell_type": "code",
   "execution_count": 11,
   "id": "1f820b01",
   "metadata": {},
   "outputs": [
    {
     "data": {
      "image/png": "[encoded data removed]",
      "text/plain": [
       "<Figure size 432x288 with 2 Axes>"
      ]
     },
     "metadata": {
      "needs_background": "light"
     },
     "output_type": "display_data"
    }
   ],
   "source": [
    "## Creating a heatmap for the Random Forest model's confusion matrix\n",
    "sns.heatmap(rf_conf_matrix, annot=True, fmt='d', cmap='Blues', \n",
    "            xticklabels=['No Default', 'Default'], \n",
    "            yticklabels=['No Default', 'Default'])\n",
    "plt.title('Confusion Matrix for Random Forest Model')\n",
    "plt.xlabel('Predicted Label')\n",
    "plt.ylabel('True Label')\n",
    "plt.show()"
   ]
  },
  {
   "cell_type": "markdown",
   "id": "a0756094",
   "metadata": {},
   "source": [
    "## Initial Results and Assessment"
   ]
  },
  {
   "cell_type": "markdown",
   "id": "4d5d0649",
   "metadata": {},
   "source": [
    "Both models show comparable performance, with SVM having a slight edge in accuracy. The SVM model achieved an accuracy of approximately 81.93% on the test set. Here's a detailed breakdown of the model's performance:\n",
    "\n",
    "Precision for class 0 (no default): 84%,\n",
    "Recall for class 0: 96%,\n",
    "Precision for class 1 (default): 68%,\n",
    "Recall for class 1: 33%\n",
    "\n",
    "The Random Forest model achieved an accuracy of approximately 81.6% on the test set. Here’s a breakdown of the model’s performance:\n",
    "\n",
    "Precision for class 0 (no default): 84%,\n",
    "Recall for class 0: 94%,\n",
    "Precision for class 1 (default): 64%,\n",
    "Recall for class 1: 37%\n",
    "\n",
    "Both models are relatively good at predicting non-default cases and highly effective at identifying actual non-default cases. However, when the SVM model predicts a default, it is correct 68% of the time, and when the Random Forest model predicts a default, it is accurate 64% of the time. Both models have low recall for class 1, indicating they miss a significant number of actual default cases."
   ]
  },
  {
   "cell_type": "markdown",
   "id": "f51a9c62",
   "metadata": {},
   "source": [
    "The confusion matrix results are as follows:\n",
    "\n",
    "SVM model:\n",
    "True Non-Defaults (True Negtaives): 4480,\n",
    "False Non-Defaults (False Negatives): 877, \n",
    "False Defaults (False Positives): 207,\n",
    "True Defaults (True Positives): 436\n",
    "\n",
    "Random Forest model:\n",
    "True Non-Defaults (True Negatives): 4413,\n",
    "False Non-Defaults (False Negatives): 830, \n",
    "False Defaults (False Positives): 274, \n",
    "True Defaults (True Positives): 483\n",
    "\n",
    "These results indicate that both models have higher rates of False Defaults (where non-defaults are incorrectly predicted as defaults), reflecting the low recall for class 1. "
   ]
  },
  {
   "cell_type": "markdown",
   "id": "25153267",
   "metadata": {},
   "source": [
    "## Challenges"
   ]
  },
  {
   "cell_type": "markdown",
   "id": "1cfda218",
   "metadata": {},
   "source": [
    "The SVM and Random Forest models exhibit satisfactory overall accuracy but face challenges in effectively identifying default cases (class 1). Both models struggle with low recall for defaults, which measures their ability to correctly identify all relevant instances of credit card defaults. Specifically, the SVM model misses about 67% of default cases, indicating a significant gap in detecting true defaults. Additionally, both models display only moderate precision for defaults, with SVM and Random Forest achieving precision scores of 0.68 and 0.64, respectively. This suggests that a considerable portion of the predictions made by these models falsely identifies non-defaulters as defaulters. The results highlight a need to enhance both the recall and precision for class 1 to improve the models' effectiveness in predicting credit card defaults accurately."
   ]
  },
  {
   "cell_type": "markdown",
   "id": "f3a58692",
   "metadata": {},
   "source": [
    "## Solutions and Reassessment"
   ]
  },
  {
   "cell_type": "markdown",
   "id": "c0769ddd",
   "metadata": {},
   "source": [
    "## 1: addressing class imbalance"
   ]
  },
  {
   "cell_type": "code",
   "execution_count": 12,
   "id": "0f265c7d",
   "metadata": {},
   "outputs": [
    {
     "name": "stdout",
     "output_type": "stream",
     "text": [
      "Accuracy: 0.7736666666666666\n",
      "Confusion Matrix:\n",
      " [[3872  815]\n",
      " [ 543  770]]\n",
      "              precision    recall  f1-score   support\n",
      "\n",
      "           0       0.88      0.83      0.85      4687\n",
      "           1       0.49      0.59      0.53      1313\n",
      "\n",
      "    accuracy                           0.77      6000\n",
      "   macro avg       0.68      0.71      0.69      6000\n",
      "weighted avg       0.79      0.77      0.78      6000\n",
      "\n",
      "ROC-AUC Score: 0.7568089923498923\n"
     ]
    }
   ],
   "source": [
    "## Adjust class weights - SVM\n",
    "from sklearn.svm import SVC\n",
    "\n",
    "## Adjusting class weights\n",
    "svm_weighted = SVC(class_weight = 'balanced', random_state=42)\n",
    "\n",
    "## Fit the model\n",
    "svm_weighted.fit(X_train_scaled, y_train)\n",
    "\n",
    "## Evaluate the model\n",
    "y_pred_svm_weighted = svm_weighted.predict(X_test_scaled)\n",
    "decision_scores_weighted = svm_weighted.decision_function(X_test_scaled)  # Get decision function scores\n",
    "\n",
    "## Print evaluation results\n",
    "print(\"Accuracy:\",accuracy_score(y_test,y_pred_svm_weighted))\n",
    "print(\"Confusion Matrix:\\n\",confusion_matrix(y_test, y_pred_svm_weighted))\n",
    "print(classification_report(y_test, y_pred_svm_weighted))\n",
    "print(\"ROC-AUC Score:\",roc_auc_score(y_test, decision_scores_weighted)) # Calculate ROC-AUC using decision function"
   ]
  },
  {
   "cell_type": "code",
   "execution_count": 13,
   "id": "520708d9",
   "metadata": {},
   "outputs": [
    {
     "name": "stdout",
     "output_type": "stream",
     "text": [
      "Accuracy: 0.8151666666666667\n",
      "Confusion Matrix:\n",
      " [[4443  244]\n",
      " [ 865  448]]\n",
      "              precision    recall  f1-score   support\n",
      "\n",
      "           0       0.84      0.95      0.89      4687\n",
      "           1       0.65      0.34      0.45      1313\n",
      "\n",
      "    accuracy                           0.82      6000\n",
      "   macro avg       0.74      0.64      0.67      6000\n",
      "weighted avg       0.80      0.82      0.79      6000\n",
      "\n",
      "ROC-AUC Score: 0.7592317945749706\n"
     ]
    }
   ],
   "source": [
    "## Adjust class weights - Random Forest\n",
    "from sklearn.ensemble import RandomForestClassifier\n",
    "\n",
    "## Adjusting class weights\n",
    "rf_weighted = RandomForestClassifier(class_weight='balanced', random_state=42)\n",
    "\n",
    "## Fit the model\n",
    "rf_weighted.fit(X_train, y_train)\n",
    "\n",
    "## Evaluate the model\n",
    "y_pred_rf_weighted = rf_weighted.predict(X_test)\n",
    "y_proba_rf_weighted = rf_weighted.predict_proba(X_test)[:, 1]\n",
    "\n",
    "## Print evaluation results\n",
    "print(\"Accuracy:\",accuracy_score(y_test,y_pred_rf_weighted))\n",
    "print(\"Confusion Matrix:\\n\",confusion_matrix(y_test, y_pred_rf_weighted))\n",
    "print(classification_report(y_test, y_pred_rf_weighted))\n",
    "print(\"ROC-AUC Score:\",roc_auc_score(y_test, y_proba_rf_weighted))"
   ]
  },
  {
   "cell_type": "code",
   "execution_count": 14,
   "id": "6af81296",
   "metadata": {},
   "outputs": [
    {
     "name": "stdout",
     "output_type": "stream",
     "text": [
      "Accuracy: 0.744\n",
      "Confusion Matrix:\n",
      " [[3718  969]\n",
      " [ 567  746]]\n",
      "              precision    recall  f1-score   support\n",
      "\n",
      "           0       0.87      0.79      0.83      4687\n",
      "           1       0.43      0.57      0.49      1313\n",
      "\n",
      "    accuracy                           0.74      6000\n",
      "   macro avg       0.65      0.68      0.66      6000\n",
      "weighted avg       0.77      0.74      0.76      6000\n",
      "\n",
      "ROC-AUC Score: 0.7352428838918751\n"
     ]
    }
   ],
   "source": [
    "## SMOTE - SVM\n",
    "from imblearn.over_sampling import SMOTE\n",
    "\n",
    "## Applying SMOTE to balance the classes\n",
    "smote = SMOTE(random_state=42)\n",
    "X_resampled, y_resampled = smote.fit_resample(X_train, y_train)\n",
    "\n",
    "## Scaling the resampled data\n",
    "scaler_new = StandardScaler()\n",
    "X_resampled_scaled = scaler_new.fit_transform(X_resampled)\n",
    "X_test_scaled = scaler_new.transform(X_test)\n",
    "\n",
    "## Train the SVM model on the resampled and scaled data\n",
    "svm_smote = SVC(random_state=42, probability = True)\n",
    "svm_smote.fit(X_resampled_scaled, y_resampled)\n",
    "\n",
    "## Predictions\n",
    "svm_predictions = svm_smote.predict(X_test_scaled)\n",
    "svm_proba = svm_smote.predict_proba(X_test_scaled)[:, 1]\n",
    "\n",
    "## Evaluation\n",
    "svm_accuracy = accuracy_score(y_test, svm_predictions)\n",
    "svm_conf_matrix = confusion_matrix(y_test, svm_predictions)\n",
    "svm_report = classification_report(y_test, svm_predictions)\n",
    "svm_roc_auc = roc_auc_score(y_test, svm_proba)\n",
    "\n",
    "## Print evaluation results\n",
    "print(\"Accuracy:\",svm_accuracy)\n",
    "print(\"Confusion Matrix:\\n\",svm_conf_matrix)\n",
    "print(svm_report)\n",
    "print(\"ROC-AUC Score:\",svm_roc_auc)"
   ]
  },
  {
   "cell_type": "code",
   "execution_count": 15,
   "id": "b421479f",
   "metadata": {},
   "outputs": [
    {
     "name": "stdout",
     "output_type": "stream",
     "text": [
      "Accuracy: 0.779\n",
      "Confusion Matrix:\n",
      " [[4052  635]\n",
      " [ 691  622]]\n",
      "              precision    recall  f1-score   support\n",
      "\n",
      "           0       0.85      0.86      0.86      4687\n",
      "           1       0.49      0.47      0.48      1313\n",
      "\n",
      "    accuracy                           0.78      6000\n",
      "   macro avg       0.67      0.67      0.67      6000\n",
      "weighted avg       0.78      0.78      0.78      6000\n",
      "\n",
      "ROC-AUC Score: 0.7404571085196028\n"
     ]
    }
   ],
   "source": [
    "## SMOTE - Random Forest\n",
    "\n",
    "## Train Random Forest model\n",
    "rf_s = RandomForestClassifier(random_state=42)\n",
    "rf_s.fit(X_resampled, y_resampled)\n",
    "\n",
    "## Predictions\n",
    "rf_predictions = rf_s.predict(X_test)\n",
    "rf_probabilities = rf_s.predict_proba(X_test)[:, 1] \n",
    "\n",
    "## Evaluation\n",
    "rf_accuracy = accuracy_score(y_test, rf_predictions)\n",
    "rf_conf_matrix = confusion_matrix(y_test, rf_predictions)\n",
    "rf_report = classification_report(y_test, rf_predictions)\n",
    "rf_roc_auc = roc_auc_score(y_test, rf_probabilities)\n",
    "\n",
    "print(\"Accuracy:\",rf_accuracy)\n",
    "print(\"Confusion Matrix:\\n\",rf_conf_matrix)\n",
    "print(rf_report)\n",
    "print(\"ROC-AUC Score:\",rf_roc_auc)"
   ]
  },
  {
   "cell_type": "markdown",
   "id": "17bdb404",
   "metadata": {},
   "source": [
    "## 2: hyperparameter tuning"
   ]
  },
  {
   "cell_type": "code",
   "execution_count": 16,
   "id": "09726fe7",
   "metadata": {},
   "outputs": [
    {
     "name": "stdout",
     "output_type": "stream",
     "text": [
      "Best Parameters: {'C': 0.1, 'gamma': 'scale', 'kernel': 'rbf'}\n",
      "Best Score: 0.7835416666666666\n",
      "Improved SVM Performance:\n",
      "Accuracy: 0.8023333333333333\n",
      "Confusion Matrix:\n",
      "[[4181  506]\n",
      " [ 680  633]]\n",
      "Classification Report:\n",
      "              precision    recall  f1-score   support\n",
      "\n",
      "           0       0.86      0.89      0.88      4687\n",
      "           1       0.56      0.48      0.52      1313\n",
      "\n",
      "    accuracy                           0.80      6000\n",
      "   macro avg       0.71      0.69      0.70      6000\n",
      "weighted avg       0.79      0.80      0.80      6000\n",
      "\n",
      "ROC-AUC Score: 0.750155792195392\n"
     ]
    }
   ],
   "source": [
    "## SVM Hyperparameter Tuning\n",
    "\n",
    "from sklearn.model_selection import GridSearchCV\n",
    "\n",
    "## Convert scaled arrays back to DataFrame for consistent indexing\n",
    "X_train_scaled = pd.DataFrame(X_train_scaled, index=X_train.index, columns=X_train.columns)\n",
    "X_test_scaled = pd.DataFrame(X_test_scaled, index=X_test.index, columns=X_test.columns)\n",
    "\n",
    "## Taking a smaller sample from the training dataset\n",
    "X_train_sample = X_train_scaled.sample(frac=0.2, random_state=42)  # 20% of the original dataset to make the process computationally feasible\n",
    "y_train_sample = y_train.loc[X_train_sample.index]\n",
    "\n",
    "## Define the range of parameters to test with the SVM model to find the best combination\n",
    "param_grid = {'C': [0.1, 1, 10], # Regularization parameter\n",
    "              'kernel': ['linear', 'rbf'], # Type of SVM kernel\n",
    "              'gamma': ['scale', 'auto']  # Kernel coefficient\n",
    "             }\n",
    "\n",
    "## Initialize the GridSearchCV object for SVM with cross-validation\n",
    "grid_search_svm = GridSearchCV(SVC(class_weight='balanced', random_state = 42, probability = True), param_grid, cv=5, scoring='accuracy')\n",
    "\n",
    "## Perform random search\n",
    "grid_search_svm.fit(X_train_sample, y_train_sample)\n",
    "\n",
    "## Best parameters and best score\n",
    "print(\"Best Parameters:\", grid_search_svm.best_params_)\n",
    "print(\"Best Score:\", grid_search_svm.best_score_)\n",
    "\n",
    "## Retrieve the best model\n",
    "best_model_svm = grid_search_svm.best_estimator_\n",
    "y_pred_svm = best_model_svm.predict(X_test_scaled)\n",
    "y_scores_svm = best_model_svm.predict_proba(X_test_scaled)[:, 1] \n",
    "\n",
    "## Evaluate the model\n",
    "accuracy = accuracy_score(y_test, y_pred_svm)\n",
    "conf_matrix = confusion_matrix(y_test, y_pred_svm)\n",
    "classification_rep = classification_report(y_test, y_pred_svm)\n",
    "roc_auc = roc_auc_score(y_test, y_scores_svm)\n",
    "\n",
    "## Print evaluation results\n",
    "print(\"Improved SVM Performance:\")\n",
    "print(f\"Accuracy: {accuracy}\")\n",
    "print(f\"Confusion Matrix:\\n{conf_matrix}\")\n",
    "print(f\"Classification Report:\\n{classification_rep}\")\n",
    "print(f\"ROC-AUC Score: {roc_auc}\")"
   ]
  },
  {
   "cell_type": "code",
   "execution_count": 17,
   "id": "77b067fb",
   "metadata": {},
   "outputs": [
    {
     "name": "stdout",
     "output_type": "stream",
     "text": [
      "Best Parameters: {'max_depth': None, 'max_features': 'auto', 'n_estimators': 200}\n",
      "Best Score: 0.8155833333333333\n",
      "Accuracy: 0.8151666666666667\n",
      "Confusion Matrix:\n",
      " [[4448  239]\n",
      " [ 870  443]]\n",
      "Improved Random Forest Performance:\n",
      "              precision    recall  f1-score   support\n",
      "\n",
      "           0       0.84      0.95      0.89      4687\n",
      "           1       0.65      0.34      0.44      1313\n",
      "\n",
      "    accuracy                           0.82      6000\n",
      "   macro avg       0.74      0.64      0.67      6000\n",
      "weighted avg       0.80      0.82      0.79      6000\n",
      "\n",
      "ROC-AUC Score: 0.7612481152597379\n"
     ]
    }
   ],
   "source": [
    "## Random Forest Hyperparameter Tuning\n",
    "\n",
    "## Define the parameter grid for Random Forest\n",
    "param_grid_rf = {\n",
    "    'n_estimators': [50, 100, 200, 300],\n",
    "        'max_features': ['auto', 'sqrt'],\n",
    "        'max_depth': [None, 10, 20]\n",
    "}\n",
    "\n",
    "## Initialize the GridSearchCV object for Random Forest with cross-validation\n",
    "grid_search_rf = GridSearchCV(RandomForestClassifier(class_weight='balanced',random_state=42), param_grid=param_grid_rf, cv=5, scoring='accuracy', n_jobs=-1)\n",
    "\n",
    "## Perform grid search\n",
    "grid_search_rf.fit(X_train, y_train)\n",
    "\n",
    "## Best parameters and best score\n",
    "print(\"Best Parameters:\", grid_search_rf.best_params_)\n",
    "print(\"Best Score:\", grid_search_rf.best_score_)\n",
    "\n",
    "## Retrieve the best model\n",
    "best_model_rf = grid_search_rf.best_estimator_\n",
    "y_pred_rf = best_model_rf.predict(X_test)\n",
    "y_scores_rf = best_model_rf.predict_proba(X_test)[:, 1]\n",
    "\n",
    "## Evaluate the model\n",
    "print(\"Accuracy:\",accuracy_score(y_test, y_pred_rf))\n",
    "print(\"Confusion Matrix:\\n\",confusion_matrix(y_test, y_pred_rf))\n",
    "print(\"Improved Random Forest Performance:\")\n",
    "print(classification_report(y_test, y_pred_rf))\n",
    "print(\"ROC-AUC Score:\",roc_auc_score(y_test, y_scores_rf))"
   ]
  },
  {
   "cell_type": "markdown",
   "id": "700bb615",
   "metadata": {},
   "source": [
    "## 3: using other ensemble methods"
   ]
  },
  {
   "cell_type": "code",
   "execution_count": 18,
   "id": "749e8af4",
   "metadata": {},
   "outputs": [
    {
     "name": "stdout",
     "output_type": "stream",
     "text": [
      "Accuracy: 0.8071666666666667\n",
      "Confusion Matrix:\n",
      " [[4204  483]\n",
      " [ 674  639]]\n",
      "AdaBoost Model Performance:\n",
      "              precision    recall  f1-score   support\n",
      "\n",
      "           0       0.86      0.90      0.88      4687\n",
      "           1       0.57      0.49      0.52      1313\n",
      "\n",
      "    accuracy                           0.81      6000\n",
      "   macro avg       0.72      0.69      0.70      6000\n",
      "weighted avg       0.80      0.81      0.80      6000\n",
      "\n",
      "ROC-AUC Score: 0.7734180247060828\n"
     ]
    }
   ],
   "source": [
    "## 1: AdaBoost\n",
    "from sklearn.tree import DecisionTreeClassifier\n",
    "from sklearn.ensemble import AdaBoostClassifier\n",
    "\n",
    "## Weights for AdaBoost to handle class imbalance\n",
    "weights = np.where(y_train == 1, 1, 0.5)  # Increase weight for class '1'\n",
    "\n",
    "## Initialize AdaBoost with a base estimator\n",
    "ada_boost = AdaBoostClassifier(DecisionTreeClassifier(max_depth=1),\n",
    "                                   n_estimators=50, random_state=42)\n",
    "\n",
    "## Train the AdaBoost model \n",
    "ada_boost.fit(X_train, y_train, sample_weight=weights)\n",
    "\n",
    "## Predicting on the test set \n",
    "y_pred_ada = ada_boost.predict(X_test)\n",
    "y_proba_ada = ada_boost.predict_proba(X_test)[:, 1]\n",
    "\n",
    "## Evaluation\n",
    "print(\"Accuracy:\",accuracy_score(y_test, y_pred_ada))\n",
    "print(\"Confusion Matrix:\\n\",confusion_matrix(y_test, y_pred_ada))\n",
    "print(\"AdaBoost Model Performance:\")\n",
    "print(classification_report(y_test, y_pred_ada))\n",
    "print(\"ROC-AUC Score:\",roc_auc_score(y_test, y_proba_ada))"
   ]
  },
  {
   "cell_type": "code",
   "execution_count": 19,
   "id": "bec452a7",
   "metadata": {},
   "outputs": [
    {
     "name": "stdout",
     "output_type": "stream",
     "text": [
      "Best Parameters: {'base_estimator__max_depth': 3, 'base_estimator__min_samples_split': 2, 'learning_rate': 0.01, 'n_estimators': 200}\n",
      "Best Score: 0.8219166666666666\n",
      "Accuracy: 0.8203333333333334\n",
      "Confusion Matrix:\n",
      " [[4470  217]\n",
      " [ 861  452]]\n",
      "Improved AdaBoost Model Performance:\n",
      "              precision    recall  f1-score   support\n",
      "\n",
      "           0       0.84      0.95      0.89      4687\n",
      "           1       0.68      0.34      0.46      1313\n",
      "\n",
      "    accuracy                           0.82      6000\n",
      "   macro avg       0.76      0.65      0.67      6000\n",
      "weighted avg       0.80      0.82      0.80      6000\n",
      "\n",
      "ROC-AUC Score: 0.7718689587361519\n"
     ]
    }
   ],
   "source": [
    "from sklearn.model_selection import GridSearchCV\n",
    "\n",
    "## Parameters of the base estimator\n",
    "tree_params = {\n",
    "    'base_estimator__max_depth': [1, 2, 3],  \n",
    "    'base_estimator__min_samples_split': [2, 4, 6] \n",
    "}\n",
    "\n",
    "## AdaBoost specific parameters\n",
    "ada_params = {\n",
    "    'n_estimators': [50, 100, 200],  \n",
    "    'learning_rate': [0.01, 0.1, 1]  \n",
    "}\n",
    "\n",
    "## Combine parameters\n",
    "param_grid = {**tree_params, **ada_params}\n",
    "\n",
    "## Base estimator\n",
    "base_tree = DecisionTreeClassifier(random_state=42)\n",
    "\n",
    "## Initialize AdaBoost with the base estimator\n",
    "ada_boost = AdaBoostClassifier(base_estimator=base_tree, random_state=42)\n",
    "\n",
    "## Setup GridSearchCV\n",
    "grid_search = GridSearchCV(ada_boost, param_grid, cv=5, scoring='accuracy', n_jobs=-1)\n",
    "grid_search.fit(X_train, y_train)\n",
    "\n",
    "## Print the best parameters and best score\n",
    "print(\"Best Parameters:\", grid_search.best_params_)\n",
    "print(\"Best Score:\", grid_search.best_score_)\n",
    "\n",
    "## Best model\n",
    "best_ada = grid_search.best_estimator_\n",
    "\n",
    "## Predict on the test set and calculate probabilities for ROC-AUC\n",
    "y_pred_best_ada = best_ada.predict(X_test)\n",
    "y_proba_best_ada = best_ada.predict_proba(X_test)[:, 1]\n",
    "\n",
    "## Print evaluation results\n",
    "print(\"Accuracy:\",accuracy_score(y_test, y_pred_best_ada))\n",
    "print(\"Confusion Matrix:\\n\",confusion_matrix(y_test, y_pred_best_ada))\n",
    "print(\"Improved AdaBoost Model Performance:\")\n",
    "print(classification_report(y_test, y_pred_best_ada))\n",
    "print(\"ROC-AUC Score:\",roc_auc_score(y_test, y_proba_best_ada))"
   ]
  },
  {
   "cell_type": "code",
   "execution_count": 20,
   "id": "8b80bd81",
   "metadata": {},
   "outputs": [
    {
     "name": "stdout",
     "output_type": "stream",
     "text": [
      "Accuracy: 0.7631666666666667\n",
      "Confusion Matrix:\n",
      " [[3809  878]\n",
      " [ 543  770]]\n",
      "XGBoost Model Performance:\n",
      "              precision    recall  f1-score   support\n",
      "\n",
      "           0       0.88      0.81      0.84      4687\n",
      "           1       0.47      0.59      0.52      1313\n",
      "\n",
      "    accuracy                           0.76      6000\n",
      "   macro avg       0.67      0.70      0.68      6000\n",
      "weighted avg       0.79      0.76      0.77      6000\n",
      "\n",
      "ROC-AUC Score: 0.7680177431670396\n"
     ]
    }
   ],
   "source": [
    "## 2: XGBoost\n",
    "\n",
    "#!pip install xgboost\n",
    "from xgboost import XGBClassifier\n",
    "\n",
    "## Give a weight for correcting class imbalance\n",
    "scale_pos_weight = y_train.value_counts()[0] / y_train.value_counts()[1]\n",
    "\n",
    "## Initialize and train the XGBoost classifier\n",
    "xgb = XGBClassifier(scale_pos_weight = scale_pos_weight, \n",
    "                    use_label_encoder=False, eval_metric='logloss', random_state=42)\n",
    "xgb.fit(X_train, y_train)\n",
    "\n",
    "## Predict on the testing set and get probability scores\n",
    "y_pred_xgb = xgb.predict(X_test)\n",
    "y_proba_xgb = xgb.predict_proba(X_test)[:, 1]\n",
    "\n",
    "## Evaluate the model\n",
    "print(\"Accuracy:\",accuracy_score(y_test, y_pred_xgb))\n",
    "print(\"Confusion Matrix:\\n\",confusion_matrix(y_test, y_pred_xgb))\n",
    "print(\"XGBoost Model Performance:\")\n",
    "print(classification_report(y_test, y_pred_xgb))\n",
    "print(\"ROC-AUC Score:\",roc_auc_score(y_test, y_proba_xgb))"
   ]
  },
  {
   "cell_type": "code",
   "execution_count": 21,
   "id": "c6724cb4",
   "metadata": {},
   "outputs": [
    {
     "name": "stdout",
     "output_type": "stream",
     "text": [
      "Best Parameters: {'learning_rate': 0.2, 'max_depth': 7, 'n_estimators': 300, 'subsample': 0.8}\n",
      "Best Score: 0.78775\n",
      "Accuracy: 0.7835\n",
      "Confusion Matrix:\n",
      " [[4061  626]\n",
      " [ 673  640]]\n",
      "Improved XGBoost Model Performance:\n",
      "              precision    recall  f1-score   support\n",
      "\n",
      "           0       0.86      0.87      0.86      4687\n",
      "           1       0.51      0.49      0.50      1313\n",
      "\n",
      "    accuracy                           0.78      6000\n",
      "   macro avg       0.68      0.68      0.68      6000\n",
      "weighted avg       0.78      0.78      0.78      6000\n",
      "\n",
      "ROC-AUC Score: 0.7515002768104353\n"
     ]
    }
   ],
   "source": [
    "## Define the parameter grid\n",
    "param_grid = {\n",
    "    'max_depth': [3, 5, 7],\n",
    "    'learning_rate': [0.01, 0.1, 0.2],\n",
    "    'n_estimators': [100, 200, 300],\n",
    "    'subsample': [0.8, 0.9, 1.0]\n",
    "}\n",
    "\n",
    "## Initialize the GridSearchCV\n",
    "grid_search = GridSearchCV(estimator=xgb, param_grid=param_grid, scoring='accuracy', cv=5, n_jobs=-1)\n",
    "grid_search.fit(X_train, y_train)\n",
    "\n",
    "## Print the best parameters and best score\n",
    "print(\"Best Parameters:\", grid_search.best_params_)\n",
    "print(\"Best Score:\", grid_search.best_score_)\n",
    "\n",
    "## Best model, prediction, and probabilities calculation \n",
    "best_model = grid_search.best_estimator_\n",
    "y_pred_best = best_model.predict(X_test)\n",
    "y_proba_best = best_model.predict_proba(X_test)[:, 1]\n",
    "\n",
    "## Evaluate the model\n",
    "print(\"Accuracy:\",accuracy_score(y_test, y_pred_best))\n",
    "print(\"Confusion Matrix:\\n\",confusion_matrix(y_test, y_pred_best))\n",
    "print(\"Improved XGBoost Model Performance:\")\n",
    "print(classification_report(y_test, y_pred_best))\n",
    "print(\"ROC-AUC Score:\",roc_auc_score(y_test, y_proba_best))"
   ]
  },
  {
   "cell_type": "markdown",
   "id": "dd4406ac",
   "metadata": {},
   "source": [
    "## 4: adjusting decision threshold"
   ]
  },
  {
   "cell_type": "code",
   "execution_count": 22,
   "id": "757da9e3",
   "metadata": {},
   "outputs": [
    {
     "data": {
      "image/png": "[encoded data removed]",
      "text/plain": [
       "<Figure size 720x432 with 1 Axes>"
      ]
     },
     "metadata": {
      "needs_background": "light"
     },
     "output_type": "display_data"
    }
   ],
   "source": [
    "## SVM\n",
    "from sklearn.metrics import precision_recall_curve, auc\n",
    " \n",
    "## Train SVM with probability output\n",
    "svm = SVC(probability=True, random_state=42)\n",
    "svm.fit(X_train_scaled, y_train)\n",
    "y_probs = svm.predict_proba(X_test_scaled)[:, 1]\n",
    "\n",
    "## Calculate precision-recall curve and the area under the curve\n",
    "precision, recall, thresholds = precision_recall_curve(y_test, y_probs)\n",
    "pr_auc = auc(recall, precision)\n",
    "\n",
    "## Plotting Precision-Recall curve\n",
    "plt.figure(figsize=(10, 6))\n",
    "plt.plot(recall, precision, marker='.', label=f'AUC={pr_auc:.2f}')\n",
    "plt.xlabel('Recall')\n",
    "plt.ylabel('Precision')\n",
    "plt.title('Precision-Recall Curve')\n",
    "plt.legend()\n",
    "plt.grid(True)\n",
    "plt.show()\n"
   ]
  },
  {
   "cell_type": "code",
   "execution_count": 23,
   "id": "6ac9f94a",
   "metadata": {},
   "outputs": [
    {
     "name": "stdout",
     "output_type": "stream",
     "text": [
      "Threshold: 0.14\n",
      "Accuracy: 0.29133333333333333\n",
      "Confusion Matrix:\n",
      " [[ 544 4143]\n",
      " [ 109 1204]]\n",
      "              precision    recall  f1-score   support\n",
      "\n",
      "           0       0.83      0.12      0.20      4687\n",
      "           1       0.23      0.92      0.36      1313\n",
      "\n",
      "    accuracy                           0.29      6000\n",
      "   macro avg       0.53      0.52      0.28      6000\n",
      "weighted avg       0.70      0.29      0.24      6000\n",
      "\n",
      "ROC-AUC Score: 0.6945207945816327\n",
      "\n",
      "\n",
      "Threshold: 0.81\n",
      "Accuracy: 0.7841666666666667\n",
      "Confusion Matrix:\n",
      " [[4673   14]\n",
      " [1281   32]]\n",
      "              precision    recall  f1-score   support\n",
      "\n",
      "           0       0.78      1.00      0.88      4687\n",
      "           1       0.70      0.02      0.05      1313\n",
      "\n",
      "    accuracy                           0.78      6000\n",
      "   macro avg       0.74      0.51      0.46      6000\n",
      "weighted avg       0.77      0.78      0.70      6000\n",
      "\n",
      "ROC-AUC Score: 0.6945207945816327\n",
      "\n",
      "\n"
     ]
    }
   ],
   "source": [
    "## Function to apply threshold and evaluate model\n",
    "def evaluate_threshold(threshold):\n",
    "    y_pred_adjusted = (y_probs >= threshold).astype(int)\n",
    "    accuracy_adjusted = accuracy_score(y_test, y_pred_adjusted)\n",
    "    classification_rep_adjusted = classification_report(y_test, y_pred_adjusted)\n",
    "    conf_matrix_adjusted = confusion_matrix(y_test, y_pred_adjusted)\n",
    "    roc_auc = roc_auc_score(y_test, y_probs)  # Using probabilities for ROC-AUC\n",
    "\n",
    "    print(f\"Threshold: {threshold}\")\n",
    "    print(\"Accuracy:\", accuracy_adjusted)\n",
    "    print(\"Confusion Matrix:\\n\", conf_matrix_adjusted)\n",
    "    print(classification_rep_adjusted)\n",
    "    print(\"ROC-AUC Score:\", roc_auc)\n",
    "    print(\"\\n\")\n",
    "\n",
    "## Evaluate at different thresholds\n",
    "evaluate_threshold(0.14)\n",
    "evaluate_threshold(0.81)"
   ]
  },
  {
   "cell_type": "code",
   "execution_count": 24,
   "id": "d1f5b85a",
   "metadata": {},
   "outputs": [
    {
     "data": {
      "image/png": "[encoded data removed]",
      "text/plain": [
       "<Figure size 720x432 with 1 Axes>"
      ]
     },
     "metadata": {
      "needs_background": "light"
     },
     "output_type": "display_data"
    }
   ],
   "source": [
    "## Random Forest\n",
    "rf = RandomForestClassifier(n_estimators=100, random_state=42)\n",
    "rf.fit(X_train, y_train)\n",
    "\n",
    "## Get prediction probabilities\n",
    "y_probs_rf = rf.predict_proba(X_test)[:, 1]\n",
    "\n",
    "## Calculate precision-recall curve\n",
    "precision, recall, thresholds = precision_recall_curve(y_test, y_probs_rf)\n",
    "\n",
    "## Calculating the area under the precision-recall curve\n",
    "pr_auc_rf = auc(recall, precision)\n",
    "\n",
    "## Plotting Precision-Recall curve\n",
    "plt.figure(figsize=(10, 6))\n",
    "plt.plot(recall, precision, marker='.', label=f'AUC={pr_auc_rf:.2f}')\n",
    "plt.xlabel('Recall')\n",
    "plt.ylabel('Precision')\n",
    "plt.title('Precision-Recall Curve')\n",
    "plt.legend()\n",
    "plt.grid(True)\n",
    "plt.show()\n"
   ]
  },
  {
   "cell_type": "code",
   "execution_count": 25,
   "id": "f63c43b1",
   "metadata": {},
   "outputs": [
    {
     "name": "stdout",
     "output_type": "stream",
     "text": [
      "Threshold: 0.1\n",
      "Accuracy: 0.45366666666666666\n",
      "Confusion Matrix:\n",
      " [[1528 3159]\n",
      " [ 119 1194]]\n",
      "              precision    recall  f1-score   support\n",
      "\n",
      "           0       0.93      0.33      0.48      4687\n",
      "           1       0.27      0.91      0.42      1313\n",
      "\n",
      "    accuracy                           0.45      6000\n",
      "   macro avg       0.60      0.62      0.45      6000\n",
      "weighted avg       0.78      0.45      0.47      6000\n",
      "\n",
      "ROC-AUC Score: 0.7577788444679593\n",
      "\n",
      "\n",
      "Threshold: 0.84\n",
      "Accuracy: 0.7895\n",
      "Confusion Matrix:\n",
      " [[4667   20]\n",
      " [1243   70]]\n",
      "              precision    recall  f1-score   support\n",
      "\n",
      "           0       0.79      1.00      0.88      4687\n",
      "           1       0.78      0.05      0.10      1313\n",
      "\n",
      "    accuracy                           0.79      6000\n",
      "   macro avg       0.78      0.52      0.49      6000\n",
      "weighted avg       0.79      0.79      0.71      6000\n",
      "\n",
      "ROC-AUC Score: 0.7577788444679593\n",
      "\n",
      "\n"
     ]
    }
   ],
   "source": [
    "## Function to evaluate the model at different thresholds\n",
    "def evaluate_threshold(threshold):\n",
    "    y_pred_adjusted_rf = (y_probs_rf >= threshold).astype(int)\n",
    "    accuracy_adjusted_rf = accuracy_score(y_test, y_pred_adjusted_rf)\n",
    "    classification_rep_adjusted_rf = classification_report(y_test, y_pred_adjusted_rf)\n",
    "    conf_matrix_adjusted_rf = confusion_matrix(y_test, y_pred_adjusted_rf)\n",
    "    roc_auc_rf = roc_auc_score(y_test, y_probs_rf)  \n",
    "\n",
    "    print(f\"Threshold: {threshold}\")\n",
    "    print(\"Accuracy:\", accuracy_adjusted_rf)\n",
    "    print(\"Confusion Matrix:\\n\", conf_matrix_adjusted_rf)\n",
    "    print(classification_rep_adjusted_rf)\n",
    "    print(\"ROC-AUC Score:\", roc_auc_rf)\n",
    "    print(\"\\n\")\n",
    "\n",
    "## Evaluate at different thresholds\n",
    "evaluate_threshold(0.10)\n",
    "evaluate_threshold(0.84)"
   ]
  },
  {
   "cell_type": "code",
   "execution_count": null,
   "id": "c92adf5d",
   "metadata": {},
   "outputs": [],
   "source": []
  }
 ],
 "metadata": {
  "kernelspec": {
   "display_name": "Python 3 (ipykernel)",
   "language": "python",
   "name": "python3"
  },
  "language_info": {
   "codemirror_mode": {
    "name": "ipython",
    "version": 3
   },
   "file_extension": ".py",
   "mimetype": "text/x-python",
   "name": "python",
   "nbconvert_exporter": "python",
   "pygments_lexer": "ipython3",
   "version": "3.9.12"
  }
 },
 "nbformat": 4,
 "nbformat_minor": 5
}
